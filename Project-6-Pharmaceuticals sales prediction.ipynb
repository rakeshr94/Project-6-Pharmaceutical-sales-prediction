{
 "cells": [
  {
   "cell_type": "code",
   "execution_count": 1,
   "id": "d0840617",
   "metadata": {},
   "outputs": [],
   "source": [
    "import pandas as pd\n",
    "import matplotlib.pyplot as plt\n",
    "import seaborn as sns\n",
    "from scipy.stats import chi2\n",
    "from scipy.stats import ttest_ind\n",
    "from sklearn.model_selection import train_test_split\n",
    "from scipy.stats import chi2_contingency\n",
    "from datetime import datetime"
   ]
  },
  {
   "cell_type": "code",
   "execution_count": 2,
   "id": "24098bea",
   "metadata": {},
   "outputs": [],
   "source": [
    "# Dataset loading\n",
    "df1 = pd.read_csv('sample_submission.csv')"
   ]
  },
  {
   "cell_type": "code",
   "execution_count": 3,
   "id": "d8451c1e",
   "metadata": {},
   "outputs": [
    {
     "data": {
      "text/html": [
       "<div>\n",
       "<style scoped>\n",
       "    .dataframe tbody tr th:only-of-type {\n",
       "        vertical-align: middle;\n",
       "    }\n",
       "\n",
       "    .dataframe tbody tr th {\n",
       "        vertical-align: top;\n",
       "    }\n",
       "\n",
       "    .dataframe thead th {\n",
       "        text-align: right;\n",
       "    }\n",
       "</style>\n",
       "<table border=\"1\" class=\"dataframe\">\n",
       "  <thead>\n",
       "    <tr style=\"text-align: right;\">\n",
       "      <th></th>\n",
       "      <th>Id</th>\n",
       "      <th>Sales</th>\n",
       "    </tr>\n",
       "  </thead>\n",
       "  <tbody>\n",
       "    <tr>\n",
       "      <th>0</th>\n",
       "      <td>1</td>\n",
       "      <td>0</td>\n",
       "    </tr>\n",
       "    <tr>\n",
       "      <th>1</th>\n",
       "      <td>2</td>\n",
       "      <td>0</td>\n",
       "    </tr>\n",
       "    <tr>\n",
       "      <th>2</th>\n",
       "      <td>3</td>\n",
       "      <td>0</td>\n",
       "    </tr>\n",
       "    <tr>\n",
       "      <th>3</th>\n",
       "      <td>4</td>\n",
       "      <td>0</td>\n",
       "    </tr>\n",
       "    <tr>\n",
       "      <th>4</th>\n",
       "      <td>5</td>\n",
       "      <td>0</td>\n",
       "    </tr>\n",
       "    <tr>\n",
       "      <th>...</th>\n",
       "      <td>...</td>\n",
       "      <td>...</td>\n",
       "    </tr>\n",
       "    <tr>\n",
       "      <th>41083</th>\n",
       "      <td>41084</td>\n",
       "      <td>0</td>\n",
       "    </tr>\n",
       "    <tr>\n",
       "      <th>41084</th>\n",
       "      <td>41085</td>\n",
       "      <td>0</td>\n",
       "    </tr>\n",
       "    <tr>\n",
       "      <th>41085</th>\n",
       "      <td>41086</td>\n",
       "      <td>0</td>\n",
       "    </tr>\n",
       "    <tr>\n",
       "      <th>41086</th>\n",
       "      <td>41087</td>\n",
       "      <td>0</td>\n",
       "    </tr>\n",
       "    <tr>\n",
       "      <th>41087</th>\n",
       "      <td>41088</td>\n",
       "      <td>0</td>\n",
       "    </tr>\n",
       "  </tbody>\n",
       "</table>\n",
       "<p>41088 rows × 2 columns</p>\n",
       "</div>"
      ],
      "text/plain": [
       "          Id  Sales\n",
       "0          1      0\n",
       "1          2      0\n",
       "2          3      0\n",
       "3          4      0\n",
       "4          5      0\n",
       "...      ...    ...\n",
       "41083  41084      0\n",
       "41084  41085      0\n",
       "41085  41086      0\n",
       "41086  41087      0\n",
       "41087  41088      0\n",
       "\n",
       "[41088 rows x 2 columns]"
      ]
     },
     "execution_count": 3,
     "metadata": {},
     "output_type": "execute_result"
    }
   ],
   "source": [
    "df1"
   ]
  },
  {
   "cell_type": "code",
   "execution_count": 4,
   "id": "318f17cd",
   "metadata": {},
   "outputs": [],
   "source": [
    "df2 = pd.read_csv('store.csv')"
   ]
  },
  {
   "cell_type": "code",
   "execution_count": 5,
   "id": "ea0dc763",
   "metadata": {},
   "outputs": [
    {
     "data": {
      "text/html": [
       "<div>\n",
       "<style scoped>\n",
       "    .dataframe tbody tr th:only-of-type {\n",
       "        vertical-align: middle;\n",
       "    }\n",
       "\n",
       "    .dataframe tbody tr th {\n",
       "        vertical-align: top;\n",
       "    }\n",
       "\n",
       "    .dataframe thead th {\n",
       "        text-align: right;\n",
       "    }\n",
       "</style>\n",
       "<table border=\"1\" class=\"dataframe\">\n",
       "  <thead>\n",
       "    <tr style=\"text-align: right;\">\n",
       "      <th></th>\n",
       "      <th>Store</th>\n",
       "      <th>StoreType</th>\n",
       "      <th>Assortment</th>\n",
       "      <th>CompetitionDistance</th>\n",
       "      <th>CompetitionOpenSinceMonth</th>\n",
       "      <th>CompetitionOpenSinceYear</th>\n",
       "      <th>Promo2</th>\n",
       "      <th>Promo2SinceWeek</th>\n",
       "      <th>Promo2SinceYear</th>\n",
       "      <th>PromoInterval</th>\n",
       "    </tr>\n",
       "  </thead>\n",
       "  <tbody>\n",
       "    <tr>\n",
       "      <th>0</th>\n",
       "      <td>1</td>\n",
       "      <td>c</td>\n",
       "      <td>a</td>\n",
       "      <td>1270.0</td>\n",
       "      <td>9.0</td>\n",
       "      <td>2008.0</td>\n",
       "      <td>0</td>\n",
       "      <td>NaN</td>\n",
       "      <td>NaN</td>\n",
       "      <td>NaN</td>\n",
       "    </tr>\n",
       "    <tr>\n",
       "      <th>1</th>\n",
       "      <td>2</td>\n",
       "      <td>a</td>\n",
       "      <td>a</td>\n",
       "      <td>570.0</td>\n",
       "      <td>11.0</td>\n",
       "      <td>2007.0</td>\n",
       "      <td>1</td>\n",
       "      <td>13.0</td>\n",
       "      <td>2010.0</td>\n",
       "      <td>Jan,Apr,Jul,Oct</td>\n",
       "    </tr>\n",
       "    <tr>\n",
       "      <th>2</th>\n",
       "      <td>3</td>\n",
       "      <td>a</td>\n",
       "      <td>a</td>\n",
       "      <td>14130.0</td>\n",
       "      <td>12.0</td>\n",
       "      <td>2006.0</td>\n",
       "      <td>1</td>\n",
       "      <td>14.0</td>\n",
       "      <td>2011.0</td>\n",
       "      <td>Jan,Apr,Jul,Oct</td>\n",
       "    </tr>\n",
       "    <tr>\n",
       "      <th>3</th>\n",
       "      <td>4</td>\n",
       "      <td>c</td>\n",
       "      <td>c</td>\n",
       "      <td>620.0</td>\n",
       "      <td>9.0</td>\n",
       "      <td>2009.0</td>\n",
       "      <td>0</td>\n",
       "      <td>NaN</td>\n",
       "      <td>NaN</td>\n",
       "      <td>NaN</td>\n",
       "    </tr>\n",
       "    <tr>\n",
       "      <th>4</th>\n",
       "      <td>5</td>\n",
       "      <td>a</td>\n",
       "      <td>a</td>\n",
       "      <td>29910.0</td>\n",
       "      <td>4.0</td>\n",
       "      <td>2015.0</td>\n",
       "      <td>0</td>\n",
       "      <td>NaN</td>\n",
       "      <td>NaN</td>\n",
       "      <td>NaN</td>\n",
       "    </tr>\n",
       "    <tr>\n",
       "      <th>...</th>\n",
       "      <td>...</td>\n",
       "      <td>...</td>\n",
       "      <td>...</td>\n",
       "      <td>...</td>\n",
       "      <td>...</td>\n",
       "      <td>...</td>\n",
       "      <td>...</td>\n",
       "      <td>...</td>\n",
       "      <td>...</td>\n",
       "      <td>...</td>\n",
       "    </tr>\n",
       "    <tr>\n",
       "      <th>1110</th>\n",
       "      <td>1111</td>\n",
       "      <td>a</td>\n",
       "      <td>a</td>\n",
       "      <td>1900.0</td>\n",
       "      <td>6.0</td>\n",
       "      <td>2014.0</td>\n",
       "      <td>1</td>\n",
       "      <td>31.0</td>\n",
       "      <td>2013.0</td>\n",
       "      <td>Jan,Apr,Jul,Oct</td>\n",
       "    </tr>\n",
       "    <tr>\n",
       "      <th>1111</th>\n",
       "      <td>1112</td>\n",
       "      <td>c</td>\n",
       "      <td>c</td>\n",
       "      <td>1880.0</td>\n",
       "      <td>4.0</td>\n",
       "      <td>2006.0</td>\n",
       "      <td>0</td>\n",
       "      <td>NaN</td>\n",
       "      <td>NaN</td>\n",
       "      <td>NaN</td>\n",
       "    </tr>\n",
       "    <tr>\n",
       "      <th>1112</th>\n",
       "      <td>1113</td>\n",
       "      <td>a</td>\n",
       "      <td>c</td>\n",
       "      <td>9260.0</td>\n",
       "      <td>NaN</td>\n",
       "      <td>NaN</td>\n",
       "      <td>0</td>\n",
       "      <td>NaN</td>\n",
       "      <td>NaN</td>\n",
       "      <td>NaN</td>\n",
       "    </tr>\n",
       "    <tr>\n",
       "      <th>1113</th>\n",
       "      <td>1114</td>\n",
       "      <td>a</td>\n",
       "      <td>c</td>\n",
       "      <td>870.0</td>\n",
       "      <td>NaN</td>\n",
       "      <td>NaN</td>\n",
       "      <td>0</td>\n",
       "      <td>NaN</td>\n",
       "      <td>NaN</td>\n",
       "      <td>NaN</td>\n",
       "    </tr>\n",
       "    <tr>\n",
       "      <th>1114</th>\n",
       "      <td>1115</td>\n",
       "      <td>d</td>\n",
       "      <td>c</td>\n",
       "      <td>5350.0</td>\n",
       "      <td>NaN</td>\n",
       "      <td>NaN</td>\n",
       "      <td>1</td>\n",
       "      <td>22.0</td>\n",
       "      <td>2012.0</td>\n",
       "      <td>Mar,Jun,Sept,Dec</td>\n",
       "    </tr>\n",
       "  </tbody>\n",
       "</table>\n",
       "<p>1115 rows × 10 columns</p>\n",
       "</div>"
      ],
      "text/plain": [
       "      Store StoreType Assortment  CompetitionDistance  \\\n",
       "0         1         c          a               1270.0   \n",
       "1         2         a          a                570.0   \n",
       "2         3         a          a              14130.0   \n",
       "3         4         c          c                620.0   \n",
       "4         5         a          a              29910.0   \n",
       "...     ...       ...        ...                  ...   \n",
       "1110   1111         a          a               1900.0   \n",
       "1111   1112         c          c               1880.0   \n",
       "1112   1113         a          c               9260.0   \n",
       "1113   1114         a          c                870.0   \n",
       "1114   1115         d          c               5350.0   \n",
       "\n",
       "      CompetitionOpenSinceMonth  CompetitionOpenSinceYear  Promo2  \\\n",
       "0                           9.0                    2008.0       0   \n",
       "1                          11.0                    2007.0       1   \n",
       "2                          12.0                    2006.0       1   \n",
       "3                           9.0                    2009.0       0   \n",
       "4                           4.0                    2015.0       0   \n",
       "...                         ...                       ...     ...   \n",
       "1110                        6.0                    2014.0       1   \n",
       "1111                        4.0                    2006.0       0   \n",
       "1112                        NaN                       NaN       0   \n",
       "1113                        NaN                       NaN       0   \n",
       "1114                        NaN                       NaN       1   \n",
       "\n",
       "      Promo2SinceWeek  Promo2SinceYear     PromoInterval  \n",
       "0                 NaN              NaN               NaN  \n",
       "1                13.0           2010.0   Jan,Apr,Jul,Oct  \n",
       "2                14.0           2011.0   Jan,Apr,Jul,Oct  \n",
       "3                 NaN              NaN               NaN  \n",
       "4                 NaN              NaN               NaN  \n",
       "...               ...              ...               ...  \n",
       "1110             31.0           2013.0   Jan,Apr,Jul,Oct  \n",
       "1111              NaN              NaN               NaN  \n",
       "1112              NaN              NaN               NaN  \n",
       "1113              NaN              NaN               NaN  \n",
       "1114             22.0           2012.0  Mar,Jun,Sept,Dec  \n",
       "\n",
       "[1115 rows x 10 columns]"
      ]
     },
     "execution_count": 5,
     "metadata": {},
     "output_type": "execute_result"
    }
   ],
   "source": [
    "df2"
   ]
  },
  {
   "cell_type": "code",
   "execution_count": 6,
   "id": "3e751cb0",
   "metadata": {},
   "outputs": [
    {
     "name": "stderr",
     "output_type": "stream",
     "text": [
      "C:\\Users\\Rakesh\\AppData\\Local\\Temp\\ipykernel_11396\\1670333987.py:1: DtypeWarning: Columns (7) have mixed types. Specify dtype option on import or set low_memory=False.\n",
      "  df3 = pd.read_csv('train.csv')\n"
     ]
    }
   ],
   "source": [
    "df3 = pd.read_csv('train.csv')"
   ]
  },
  {
   "cell_type": "code",
   "execution_count": 7,
   "id": "10b81ae2",
   "metadata": {},
   "outputs": [
    {
     "data": {
      "text/html": [
       "<div>\n",
       "<style scoped>\n",
       "    .dataframe tbody tr th:only-of-type {\n",
       "        vertical-align: middle;\n",
       "    }\n",
       "\n",
       "    .dataframe tbody tr th {\n",
       "        vertical-align: top;\n",
       "    }\n",
       "\n",
       "    .dataframe thead th {\n",
       "        text-align: right;\n",
       "    }\n",
       "</style>\n",
       "<table border=\"1\" class=\"dataframe\">\n",
       "  <thead>\n",
       "    <tr style=\"text-align: right;\">\n",
       "      <th></th>\n",
       "      <th>Store</th>\n",
       "      <th>DayOfWeek</th>\n",
       "      <th>Date</th>\n",
       "      <th>Sales</th>\n",
       "      <th>Customers</th>\n",
       "      <th>Open</th>\n",
       "      <th>Promo</th>\n",
       "      <th>StateHoliday</th>\n",
       "      <th>SchoolHoliday</th>\n",
       "    </tr>\n",
       "  </thead>\n",
       "  <tbody>\n",
       "    <tr>\n",
       "      <th>0</th>\n",
       "      <td>1</td>\n",
       "      <td>5</td>\n",
       "      <td>2015-07-31</td>\n",
       "      <td>5263</td>\n",
       "      <td>555</td>\n",
       "      <td>1</td>\n",
       "      <td>1</td>\n",
       "      <td>0</td>\n",
       "      <td>1</td>\n",
       "    </tr>\n",
       "    <tr>\n",
       "      <th>1</th>\n",
       "      <td>2</td>\n",
       "      <td>5</td>\n",
       "      <td>2015-07-31</td>\n",
       "      <td>6064</td>\n",
       "      <td>625</td>\n",
       "      <td>1</td>\n",
       "      <td>1</td>\n",
       "      <td>0</td>\n",
       "      <td>1</td>\n",
       "    </tr>\n",
       "    <tr>\n",
       "      <th>2</th>\n",
       "      <td>3</td>\n",
       "      <td>5</td>\n",
       "      <td>2015-07-31</td>\n",
       "      <td>8314</td>\n",
       "      <td>821</td>\n",
       "      <td>1</td>\n",
       "      <td>1</td>\n",
       "      <td>0</td>\n",
       "      <td>1</td>\n",
       "    </tr>\n",
       "    <tr>\n",
       "      <th>3</th>\n",
       "      <td>4</td>\n",
       "      <td>5</td>\n",
       "      <td>2015-07-31</td>\n",
       "      <td>13995</td>\n",
       "      <td>1498</td>\n",
       "      <td>1</td>\n",
       "      <td>1</td>\n",
       "      <td>0</td>\n",
       "      <td>1</td>\n",
       "    </tr>\n",
       "    <tr>\n",
       "      <th>4</th>\n",
       "      <td>5</td>\n",
       "      <td>5</td>\n",
       "      <td>2015-07-31</td>\n",
       "      <td>4822</td>\n",
       "      <td>559</td>\n",
       "      <td>1</td>\n",
       "      <td>1</td>\n",
       "      <td>0</td>\n",
       "      <td>1</td>\n",
       "    </tr>\n",
       "    <tr>\n",
       "      <th>...</th>\n",
       "      <td>...</td>\n",
       "      <td>...</td>\n",
       "      <td>...</td>\n",
       "      <td>...</td>\n",
       "      <td>...</td>\n",
       "      <td>...</td>\n",
       "      <td>...</td>\n",
       "      <td>...</td>\n",
       "      <td>...</td>\n",
       "    </tr>\n",
       "    <tr>\n",
       "      <th>1017204</th>\n",
       "      <td>1111</td>\n",
       "      <td>2</td>\n",
       "      <td>2013-01-01</td>\n",
       "      <td>0</td>\n",
       "      <td>0</td>\n",
       "      <td>0</td>\n",
       "      <td>0</td>\n",
       "      <td>a</td>\n",
       "      <td>1</td>\n",
       "    </tr>\n",
       "    <tr>\n",
       "      <th>1017205</th>\n",
       "      <td>1112</td>\n",
       "      <td>2</td>\n",
       "      <td>2013-01-01</td>\n",
       "      <td>0</td>\n",
       "      <td>0</td>\n",
       "      <td>0</td>\n",
       "      <td>0</td>\n",
       "      <td>a</td>\n",
       "      <td>1</td>\n",
       "    </tr>\n",
       "    <tr>\n",
       "      <th>1017206</th>\n",
       "      <td>1113</td>\n",
       "      <td>2</td>\n",
       "      <td>2013-01-01</td>\n",
       "      <td>0</td>\n",
       "      <td>0</td>\n",
       "      <td>0</td>\n",
       "      <td>0</td>\n",
       "      <td>a</td>\n",
       "      <td>1</td>\n",
       "    </tr>\n",
       "    <tr>\n",
       "      <th>1017207</th>\n",
       "      <td>1114</td>\n",
       "      <td>2</td>\n",
       "      <td>2013-01-01</td>\n",
       "      <td>0</td>\n",
       "      <td>0</td>\n",
       "      <td>0</td>\n",
       "      <td>0</td>\n",
       "      <td>a</td>\n",
       "      <td>1</td>\n",
       "    </tr>\n",
       "    <tr>\n",
       "      <th>1017208</th>\n",
       "      <td>1115</td>\n",
       "      <td>2</td>\n",
       "      <td>2013-01-01</td>\n",
       "      <td>0</td>\n",
       "      <td>0</td>\n",
       "      <td>0</td>\n",
       "      <td>0</td>\n",
       "      <td>a</td>\n",
       "      <td>1</td>\n",
       "    </tr>\n",
       "  </tbody>\n",
       "</table>\n",
       "<p>1017209 rows × 9 columns</p>\n",
       "</div>"
      ],
      "text/plain": [
       "         Store  DayOfWeek        Date  Sales  Customers  Open  Promo  \\\n",
       "0            1          5  2015-07-31   5263        555     1      1   \n",
       "1            2          5  2015-07-31   6064        625     1      1   \n",
       "2            3          5  2015-07-31   8314        821     1      1   \n",
       "3            4          5  2015-07-31  13995       1498     1      1   \n",
       "4            5          5  2015-07-31   4822        559     1      1   \n",
       "...        ...        ...         ...    ...        ...   ...    ...   \n",
       "1017204   1111          2  2013-01-01      0          0     0      0   \n",
       "1017205   1112          2  2013-01-01      0          0     0      0   \n",
       "1017206   1113          2  2013-01-01      0          0     0      0   \n",
       "1017207   1114          2  2013-01-01      0          0     0      0   \n",
       "1017208   1115          2  2013-01-01      0          0     0      0   \n",
       "\n",
       "        StateHoliday  SchoolHoliday  \n",
       "0                  0              1  \n",
       "1                  0              1  \n",
       "2                  0              1  \n",
       "3                  0              1  \n",
       "4                  0              1  \n",
       "...              ...            ...  \n",
       "1017204            a              1  \n",
       "1017205            a              1  \n",
       "1017206            a              1  \n",
       "1017207            a              1  \n",
       "1017208            a              1  \n",
       "\n",
       "[1017209 rows x 9 columns]"
      ]
     },
     "execution_count": 7,
     "metadata": {},
     "output_type": "execute_result"
    }
   ],
   "source": [
    "df3"
   ]
  },
  {
   "cell_type": "code",
   "execution_count": 8,
   "id": "573194c7",
   "metadata": {},
   "outputs": [],
   "source": [
    "df4 = pd.read_csv('test.csv')"
   ]
  },
  {
   "cell_type": "code",
   "execution_count": 9,
   "id": "5a56168c",
   "metadata": {},
   "outputs": [
    {
     "data": {
      "text/html": [
       "<div>\n",
       "<style scoped>\n",
       "    .dataframe tbody tr th:only-of-type {\n",
       "        vertical-align: middle;\n",
       "    }\n",
       "\n",
       "    .dataframe tbody tr th {\n",
       "        vertical-align: top;\n",
       "    }\n",
       "\n",
       "    .dataframe thead th {\n",
       "        text-align: right;\n",
       "    }\n",
       "</style>\n",
       "<table border=\"1\" class=\"dataframe\">\n",
       "  <thead>\n",
       "    <tr style=\"text-align: right;\">\n",
       "      <th></th>\n",
       "      <th>Id</th>\n",
       "      <th>Store</th>\n",
       "      <th>DayOfWeek</th>\n",
       "      <th>Date</th>\n",
       "      <th>Open</th>\n",
       "      <th>Promo</th>\n",
       "      <th>StateHoliday</th>\n",
       "      <th>SchoolHoliday</th>\n",
       "    </tr>\n",
       "  </thead>\n",
       "  <tbody>\n",
       "    <tr>\n",
       "      <th>0</th>\n",
       "      <td>1</td>\n",
       "      <td>1</td>\n",
       "      <td>4</td>\n",
       "      <td>2015-09-17</td>\n",
       "      <td>1.0</td>\n",
       "      <td>1</td>\n",
       "      <td>0</td>\n",
       "      <td>0</td>\n",
       "    </tr>\n",
       "    <tr>\n",
       "      <th>1</th>\n",
       "      <td>2</td>\n",
       "      <td>3</td>\n",
       "      <td>4</td>\n",
       "      <td>2015-09-17</td>\n",
       "      <td>1.0</td>\n",
       "      <td>1</td>\n",
       "      <td>0</td>\n",
       "      <td>0</td>\n",
       "    </tr>\n",
       "    <tr>\n",
       "      <th>2</th>\n",
       "      <td>3</td>\n",
       "      <td>7</td>\n",
       "      <td>4</td>\n",
       "      <td>2015-09-17</td>\n",
       "      <td>1.0</td>\n",
       "      <td>1</td>\n",
       "      <td>0</td>\n",
       "      <td>0</td>\n",
       "    </tr>\n",
       "    <tr>\n",
       "      <th>3</th>\n",
       "      <td>4</td>\n",
       "      <td>8</td>\n",
       "      <td>4</td>\n",
       "      <td>2015-09-17</td>\n",
       "      <td>1.0</td>\n",
       "      <td>1</td>\n",
       "      <td>0</td>\n",
       "      <td>0</td>\n",
       "    </tr>\n",
       "    <tr>\n",
       "      <th>4</th>\n",
       "      <td>5</td>\n",
       "      <td>9</td>\n",
       "      <td>4</td>\n",
       "      <td>2015-09-17</td>\n",
       "      <td>1.0</td>\n",
       "      <td>1</td>\n",
       "      <td>0</td>\n",
       "      <td>0</td>\n",
       "    </tr>\n",
       "    <tr>\n",
       "      <th>...</th>\n",
       "      <td>...</td>\n",
       "      <td>...</td>\n",
       "      <td>...</td>\n",
       "      <td>...</td>\n",
       "      <td>...</td>\n",
       "      <td>...</td>\n",
       "      <td>...</td>\n",
       "      <td>...</td>\n",
       "    </tr>\n",
       "    <tr>\n",
       "      <th>41083</th>\n",
       "      <td>41084</td>\n",
       "      <td>1111</td>\n",
       "      <td>6</td>\n",
       "      <td>2015-08-01</td>\n",
       "      <td>1.0</td>\n",
       "      <td>0</td>\n",
       "      <td>0</td>\n",
       "      <td>0</td>\n",
       "    </tr>\n",
       "    <tr>\n",
       "      <th>41084</th>\n",
       "      <td>41085</td>\n",
       "      <td>1112</td>\n",
       "      <td>6</td>\n",
       "      <td>2015-08-01</td>\n",
       "      <td>1.0</td>\n",
       "      <td>0</td>\n",
       "      <td>0</td>\n",
       "      <td>0</td>\n",
       "    </tr>\n",
       "    <tr>\n",
       "      <th>41085</th>\n",
       "      <td>41086</td>\n",
       "      <td>1113</td>\n",
       "      <td>6</td>\n",
       "      <td>2015-08-01</td>\n",
       "      <td>1.0</td>\n",
       "      <td>0</td>\n",
       "      <td>0</td>\n",
       "      <td>0</td>\n",
       "    </tr>\n",
       "    <tr>\n",
       "      <th>41086</th>\n",
       "      <td>41087</td>\n",
       "      <td>1114</td>\n",
       "      <td>6</td>\n",
       "      <td>2015-08-01</td>\n",
       "      <td>1.0</td>\n",
       "      <td>0</td>\n",
       "      <td>0</td>\n",
       "      <td>0</td>\n",
       "    </tr>\n",
       "    <tr>\n",
       "      <th>41087</th>\n",
       "      <td>41088</td>\n",
       "      <td>1115</td>\n",
       "      <td>6</td>\n",
       "      <td>2015-08-01</td>\n",
       "      <td>1.0</td>\n",
       "      <td>0</td>\n",
       "      <td>0</td>\n",
       "      <td>1</td>\n",
       "    </tr>\n",
       "  </tbody>\n",
       "</table>\n",
       "<p>41088 rows × 8 columns</p>\n",
       "</div>"
      ],
      "text/plain": [
       "          Id  Store  DayOfWeek        Date  Open  Promo StateHoliday  \\\n",
       "0          1      1          4  2015-09-17   1.0      1            0   \n",
       "1          2      3          4  2015-09-17   1.0      1            0   \n",
       "2          3      7          4  2015-09-17   1.0      1            0   \n",
       "3          4      8          4  2015-09-17   1.0      1            0   \n",
       "4          5      9          4  2015-09-17   1.0      1            0   \n",
       "...      ...    ...        ...         ...   ...    ...          ...   \n",
       "41083  41084   1111          6  2015-08-01   1.0      0            0   \n",
       "41084  41085   1112          6  2015-08-01   1.0      0            0   \n",
       "41085  41086   1113          6  2015-08-01   1.0      0            0   \n",
       "41086  41087   1114          6  2015-08-01   1.0      0            0   \n",
       "41087  41088   1115          6  2015-08-01   1.0      0            0   \n",
       "\n",
       "       SchoolHoliday  \n",
       "0                  0  \n",
       "1                  0  \n",
       "2                  0  \n",
       "3                  0  \n",
       "4                  0  \n",
       "...              ...  \n",
       "41083              0  \n",
       "41084              0  \n",
       "41085              0  \n",
       "41086              0  \n",
       "41087              1  \n",
       "\n",
       "[41088 rows x 8 columns]"
      ]
     },
     "execution_count": 9,
     "metadata": {},
     "output_type": "execute_result"
    }
   ],
   "source": [
    "df4"
   ]
  },
  {
   "cell_type": "code",
   "execution_count": 10,
   "id": "087d93e3",
   "metadata": {},
   "outputs": [],
   "source": [
    "train_set, test_set = train_test_split(df2, test_size=0.2, random_state=42)"
   ]
  },
  {
   "cell_type": "code",
   "execution_count": 11,
   "id": "3db37579",
   "metadata": {},
   "outputs": [
    {
     "data": {
      "text/plain": [
       "(      Store StoreType Assortment  CompetitionDistance  \\\n",
       " 247     248         a          c                340.0   \n",
       " 394     395         a          a               3620.0   \n",
       " 538     539         a          a                770.0   \n",
       " 328     329         a          a               1310.0   \n",
       " 1001   1002         d          c               1130.0   \n",
       " ...     ...       ...        ...                  ...   \n",
       " 466     467         a          c              20390.0   \n",
       " 121     122         a          c              58260.0   \n",
       " 1044   1045         a          c              26990.0   \n",
       " 1095   1096         a          c               1130.0   \n",
       " 860     861         c          c                740.0   \n",
       " \n",
       "       CompetitionOpenSinceMonth  CompetitionOpenSinceYear  Promo2  \\\n",
       " 247                         9.0                    2012.0       1   \n",
       " 394                         2.0                    2013.0       0   \n",
       " 538                         5.0                    2013.0       1   \n",
       " 328                         6.0                    1990.0       1   \n",
       " 1001                       11.0                    2008.0       0   \n",
       " ...                         ...                       ...     ...   \n",
       " 466                         4.0                    2008.0       0   \n",
       " 121                         4.0                    2013.0       0   \n",
       " 1044                       12.0                    2013.0       0   \n",
       " 1095                        NaN                       NaN       1   \n",
       " 860                         NaN                       NaN       1   \n",
       " \n",
       "       Promo2SinceWeek  Promo2SinceYear     PromoInterval  \n",
       " 247              40.0           2012.0   Jan,Apr,Jul,Oct  \n",
       " 394               NaN              NaN               NaN  \n",
       " 538              40.0           2014.0   Jan,Apr,Jul,Oct  \n",
       " 328              22.0           2012.0  Mar,Jun,Sept,Dec  \n",
       " 1001              NaN              NaN               NaN  \n",
       " ...               ...              ...               ...  \n",
       " 466               NaN              NaN               NaN  \n",
       " 121               NaN              NaN               NaN  \n",
       " 1044              NaN              NaN               NaN  \n",
       " 1095             10.0           2014.0  Mar,Jun,Sept,Dec  \n",
       " 860              14.0           2013.0  Mar,Jun,Sept,Dec  \n",
       " \n",
       " [892 rows x 10 columns],\n",
       "       Store StoreType Assortment  CompetitionDistance  \\\n",
       " 265     266         a          c                360.0   \n",
       " 101     102         a          a                150.0   \n",
       " 1045   1046         d          c              29070.0   \n",
       " 792     793         d          a               2710.0   \n",
       " 902     903         d          c               7290.0   \n",
       " ...     ...       ...        ...                  ...   \n",
       " 967     968         c          a               1190.0   \n",
       " 885     886         a          c              12430.0   \n",
       " 184     185         d          c               1860.0   \n",
       " 682     683         a          a               2850.0   \n",
       " 411     412         d          c               4460.0   \n",
       " \n",
       "       CompetitionOpenSinceMonth  CompetitionOpenSinceYear  Promo2  \\\n",
       " 265                         3.0                    2014.0       1   \n",
       " 101                        12.0                    2007.0       1   \n",
       " 1045                        4.0                    2005.0       0   \n",
       " 792                         7.0                    2006.0       0   \n",
       " 902                         9.0                    2014.0       0   \n",
       " ...                         ...                       ...     ...   \n",
       " 967                         NaN                       NaN       0   \n",
       " 885                        10.0                    2004.0       0   \n",
       " 184                         5.0                    2015.0       0   \n",
       " 682                         7.0                    2014.0       0   \n",
       " 411                         NaN                       NaN       1   \n",
       " \n",
       "       Promo2SinceWeek  Promo2SinceYear     PromoInterval  \n",
       " 265               9.0           2011.0  Mar,Jun,Sept,Dec  \n",
       " 101              10.0           2014.0  Mar,Jun,Sept,Dec  \n",
       " 1045              NaN              NaN               NaN  \n",
       " 792               NaN              NaN               NaN  \n",
       " 902               NaN              NaN               NaN  \n",
       " ...               ...              ...               ...  \n",
       " 967               NaN              NaN               NaN  \n",
       " 885               NaN              NaN               NaN  \n",
       " 184               NaN              NaN               NaN  \n",
       " 682               NaN              NaN               NaN  \n",
       " 411              39.0           2010.0   Jan,Apr,Jul,Oct  \n",
       " \n",
       " [223 rows x 10 columns])"
      ]
     },
     "execution_count": 11,
     "metadata": {},
     "output_type": "execute_result"
    }
   ],
   "source": [
    "train_set, test_set"
   ]
  },
  {
   "cell_type": "code",
   "execution_count": 12,
   "id": "158bbdf2",
   "metadata": {},
   "outputs": [],
   "source": [
    "# Distribution of promotions in both sets\n",
    "train_promotions_distribution = train_set['Promo2SinceYear'].value_counts(normalize=True)\n",
    "test_promotions_distribution = test_set['Promo2SinceYear'].value_counts(normalize=True)"
   ]
  },
  {
   "cell_type": "code",
   "execution_count": 13,
   "id": "03be4dd8",
   "metadata": {},
   "outputs": [
    {
     "data": {
      "text/plain": [
       "2011.0    0.224622\n",
       "2013.0    0.211663\n",
       "2014.0    0.161987\n",
       "2012.0    0.129590\n",
       "2009.0    0.127430\n",
       "2010.0    0.125270\n",
       "2015.0    0.019438\n",
       "Name: Promo2SinceYear, dtype: float64"
      ]
     },
     "execution_count": 13,
     "metadata": {},
     "output_type": "execute_result"
    }
   ],
   "source": [
    "train_promotions_distribution"
   ]
  },
  {
   "cell_type": "code",
   "execution_count": 14,
   "id": "b161d457",
   "metadata": {},
   "outputs": [
    {
     "data": {
      "text/plain": [
       "2011.0    0.222222\n",
       "2013.0    0.203704\n",
       "2012.0    0.194444\n",
       "2014.0    0.185185\n",
       "2009.0    0.129630\n",
       "2010.0    0.055556\n",
       "2015.0    0.009259\n",
       "Name: Promo2SinceYear, dtype: float64"
      ]
     },
     "execution_count": 14,
     "metadata": {},
     "output_type": "execute_result"
    }
   ],
   "source": [
    "test_promotions_distribution"
   ]
  },
  {
   "cell_type": "code",
   "execution_count": 15,
   "id": "84f6f26a",
   "metadata": {},
   "outputs": [],
   "source": [
    "# Convertion of the date column into datetime format\n",
    "df3['Date'] = pd.to_datetime(df3['Date'])"
   ]
  },
  {
   "cell_type": "code",
   "execution_count": 16,
   "id": "b20b58fe",
   "metadata": {},
   "outputs": [
    {
     "data": {
      "text/plain": [
       "0         2015-07-31\n",
       "1         2015-07-31\n",
       "2         2015-07-31\n",
       "3         2015-07-31\n",
       "4         2015-07-31\n",
       "             ...    \n",
       "1017204   2013-01-01\n",
       "1017205   2013-01-01\n",
       "1017206   2013-01-01\n",
       "1017207   2013-01-01\n",
       "1017208   2013-01-01\n",
       "Name: Date, Length: 1017209, dtype: datetime64[ns]"
      ]
     },
     "execution_count": 16,
     "metadata": {},
     "output_type": "execute_result"
    }
   ],
   "source": [
    "df3['Date']"
   ]
  },
  {
   "cell_type": "code",
   "execution_count": 17,
   "id": "b394d031",
   "metadata": {},
   "outputs": [],
   "source": [
    "# Defined the holiday dates \n",
    "holiday_dates = ['2015-07-31', '2013-01-01']"
   ]
  },
  {
   "cell_type": "code",
   "execution_count": 18,
   "id": "66c3d5e4",
   "metadata": {},
   "outputs": [],
   "source": [
    "# Defined periods before, during, and after the holidays\n",
    "before_holiday_period = (df3['Date'] < pd.to_datetime(holiday_dates[0]))\n",
    "during_holiday_period = ((df3['Date'] >= pd.to_datetime(holiday_dates[0])) & \n",
    "                        (df3['Date'] <= pd.to_datetime(holiday_dates[1])))\n",
    "after_holiday_period = (df3['Date'] > pd.to_datetime(holiday_dates[1]))"
   ]
  },
  {
   "cell_type": "code",
   "execution_count": 19,
   "id": "d668438a",
   "metadata": {},
   "outputs": [
    {
     "data": {
      "text/plain": [
       "0          False\n",
       "1          False\n",
       "2          False\n",
       "3          False\n",
       "4          False\n",
       "           ...  \n",
       "1017204     True\n",
       "1017205     True\n",
       "1017206     True\n",
       "1017207     True\n",
       "1017208     True\n",
       "Name: Date, Length: 1017209, dtype: bool"
      ]
     },
     "execution_count": 19,
     "metadata": {},
     "output_type": "execute_result"
    }
   ],
   "source": [
    "before_holiday_period"
   ]
  },
  {
   "cell_type": "code",
   "execution_count": 20,
   "id": "31106ca9",
   "metadata": {},
   "outputs": [
    {
     "data": {
      "text/plain": [
       "0          False\n",
       "1          False\n",
       "2          False\n",
       "3          False\n",
       "4          False\n",
       "           ...  \n",
       "1017204    False\n",
       "1017205    False\n",
       "1017206    False\n",
       "1017207    False\n",
       "1017208    False\n",
       "Name: Date, Length: 1017209, dtype: bool"
      ]
     },
     "execution_count": 20,
     "metadata": {},
     "output_type": "execute_result"
    }
   ],
   "source": [
    "during_holiday_period"
   ]
  },
  {
   "cell_type": "code",
   "execution_count": 21,
   "id": "ff30c65c",
   "metadata": {},
   "outputs": [
    {
     "data": {
      "text/plain": [
       "0           True\n",
       "1           True\n",
       "2           True\n",
       "3           True\n",
       "4           True\n",
       "           ...  \n",
       "1017204    False\n",
       "1017205    False\n",
       "1017206    False\n",
       "1017207    False\n",
       "1017208    False\n",
       "Name: Date, Length: 1017209, dtype: bool"
      ]
     },
     "execution_count": 21,
     "metadata": {},
     "output_type": "execute_result"
    }
   ],
   "source": [
    "after_holiday_period"
   ]
  },
  {
   "cell_type": "code",
   "execution_count": 22,
   "id": "06ea6d2a",
   "metadata": {},
   "outputs": [],
   "source": [
    "# The average sales for each period\n",
    "average_sales_before = df3[before_holiday_period]['Sales'].mean()\n",
    "average_sales_during = df3[during_holiday_period]['Sales'].mean()\n",
    "average_sales_after = df3[after_holiday_period]['Sales'].mean()"
   ]
  },
  {
   "cell_type": "code",
   "execution_count": 23,
   "id": "8ac2fc7d",
   "metadata": {},
   "outputs": [
    {
     "data": {
      "text/plain": [
       "5770.205198534782"
      ]
     },
     "execution_count": 23,
     "metadata": {},
     "output_type": "execute_result"
    }
   ],
   "source": [
    "average_sales_before"
   ]
  },
  {
   "cell_type": "code",
   "execution_count": 24,
   "id": "6b624ac8",
   "metadata": {},
   "outputs": [
    {
     "data": {
      "text/plain": [
       "nan"
      ]
     },
     "execution_count": 24,
     "metadata": {},
     "output_type": "execute_result"
    }
   ],
   "source": [
    "average_sales_during"
   ]
  },
  {
   "cell_type": "code",
   "execution_count": 25,
   "id": "02498d80",
   "metadata": {},
   "outputs": [
    {
     "data": {
      "text/plain": [
       "5780.053428075131"
      ]
     },
     "execution_count": 25,
     "metadata": {},
     "output_type": "execute_result"
    }
   ],
   "source": [
    "average_sales_after"
   ]
  },
  {
   "cell_type": "code",
   "execution_count": 26,
   "id": "9c995858",
   "metadata": {},
   "outputs": [
    {
     "name": "stdout",
     "output_type": "stream",
     "text": [
      "Average Sales Before Holiday: 5770.205198534782\n",
      "Average Sales During Holiday: nan\n",
      "Average Sales After Holiday: 5780.053428075131\n"
     ]
    }
   ],
   "source": [
    "# The average sales behavior for each period\n",
    "print(\"Average Sales Before Holiday:\", average_sales_before)\n",
    "print(\"Average Sales During Holiday:\", average_sales_during)\n",
    "print(\"Average Sales After Holiday:\", average_sales_after)"
   ]
  },
  {
   "cell_type": "code",
   "execution_count": 27,
   "id": "65ab270b",
   "metadata": {},
   "outputs": [],
   "source": [
    "# Defined the seasonal periods of Christmas, Easter\n",
    "christmas_period = ((df3['Date'].dt.month == 12) & \n",
    "                    (df3['Date'].dt.day >= 20) & \n",
    "                    (df3['Date'].dt.day <= 31))\n",
    "\n",
    "easter_period = ((df3['Date'].dt.month == 4) & \n",
    "                 (df3['Date'].dt.day >= 1) & \n",
    "                 (df3['Date'].dt.day <= 15))"
   ]
  },
  {
   "cell_type": "code",
   "execution_count": 28,
   "id": "7e5c8efb",
   "metadata": {},
   "outputs": [
    {
     "data": {
      "text/plain": [
       "0          False\n",
       "1          False\n",
       "2          False\n",
       "3          False\n",
       "4          False\n",
       "           ...  \n",
       "1017204    False\n",
       "1017205    False\n",
       "1017206    False\n",
       "1017207    False\n",
       "1017208    False\n",
       "Name: Date, Length: 1017209, dtype: bool"
      ]
     },
     "execution_count": 28,
     "metadata": {},
     "output_type": "execute_result"
    }
   ],
   "source": [
    "christmas_period"
   ]
  },
  {
   "cell_type": "code",
   "execution_count": 29,
   "id": "b3248ebe",
   "metadata": {},
   "outputs": [
    {
     "data": {
      "text/plain": [
       "0          False\n",
       "1          False\n",
       "2          False\n",
       "3          False\n",
       "4          False\n",
       "           ...  \n",
       "1017204    False\n",
       "1017205    False\n",
       "1017206    False\n",
       "1017207    False\n",
       "1017208    False\n",
       "Name: Date, Length: 1017209, dtype: bool"
      ]
     },
     "execution_count": 29,
     "metadata": {},
     "output_type": "execute_result"
    }
   ],
   "source": [
    "easter_period"
   ]
  },
  {
   "cell_type": "code",
   "execution_count": 30,
   "id": "075d0c01",
   "metadata": {},
   "outputs": [],
   "source": [
    "# Filtered the dataset\n",
    "christmas_sales = df3[christmas_period]['Sales']\n",
    "easter_sales = df3[easter_period]['Sales']"
   ]
  },
  {
   "cell_type": "code",
   "execution_count": 31,
   "id": "15410053",
   "metadata": {},
   "outputs": [
    {
     "data": {
      "text/plain": [
       "236380     2605\n",
       "236381     2269\n",
       "236382     3804\n",
       "236383    10152\n",
       "236384     1830\n",
       "          ...  \n",
       "623610     9028\n",
       "623611    15408\n",
       "623612    12174\n",
       "623613    30924\n",
       "623614    10614\n",
       "Name: Sales, Length: 24600, dtype: int64"
      ]
     },
     "execution_count": 31,
     "metadata": {},
     "output_type": "execute_result"
    }
   ],
   "source": [
    "christmas_sales"
   ]
  },
  {
   "cell_type": "code",
   "execution_count": 32,
   "id": "4da6bdab",
   "metadata": {},
   "outputs": [
    {
     "data": {
      "text/plain": [
       "119305    4110\n",
       "119306    7132\n",
       "119307    8651\n",
       "119308    9130\n",
       "119309    6071\n",
       "          ... \n",
       "916855       0\n",
       "916856       0\n",
       "916857       0\n",
       "916858       0\n",
       "916859       0\n",
       "Name: Sales, Length: 50175, dtype: int64"
      ]
     },
     "execution_count": 32,
     "metadata": {},
     "output_type": "execute_result"
    }
   ],
   "source": [
    "easter_sales"
   ]
  },
  {
   "cell_type": "code",
   "execution_count": 33,
   "id": "54b2bbf8",
   "metadata": {},
   "outputs": [
    {
     "name": "stdout",
     "output_type": "stream",
     "text": [
      "Average Sales During Christmas: 5374.652926829268\n",
      "Average Sales During Easter: 5688.68129546587\n"
     ]
    }
   ],
   "source": [
    "# Sales in seasonal periods\n",
    "print(\"Average Sales During Christmas:\", christmas_sales.mean())\n",
    "print(\"Average Sales During Easter:\", easter_sales.mean())"
   ]
  },
  {
   "cell_type": "code",
   "execution_count": 34,
   "id": "a996770e",
   "metadata": {},
   "outputs": [],
   "source": [
    "# correlation coefficient between sales and number of customers\n",
    "correlation = df3['Sales'].corr(df3['Customers'])"
   ]
  },
  {
   "cell_type": "code",
   "execution_count": 35,
   "id": "6f14b562",
   "metadata": {},
   "outputs": [
    {
     "data": {
      "text/plain": [
       "0.894710773301837"
      ]
     },
     "execution_count": 35,
     "metadata": {},
     "output_type": "execute_result"
    }
   ],
   "source": [
    "correlation"
   ]
  },
  {
   "cell_type": "code",
   "execution_count": 36,
   "id": "c339dfa6",
   "metadata": {},
   "outputs": [
    {
     "name": "stdout",
     "output_type": "stream",
     "text": [
      "Correlation between Sales and Number of Customers: 0.894710773301837\n"
     ]
    }
   ],
   "source": [
    "print(\"Correlation between Sales and Number of Customers:\", correlation)"
   ]
  },
  {
   "cell_type": "code",
   "execution_count": 37,
   "id": "27ec34df",
   "metadata": {},
   "outputs": [],
   "source": [
    "# Defined the promotional periods\n",
    "promo_periods = df3['Promo'] == 1"
   ]
  },
  {
   "cell_type": "code",
   "execution_count": 38,
   "id": "66d2cce0",
   "metadata": {},
   "outputs": [
    {
     "data": {
      "text/plain": [
       "0           True\n",
       "1           True\n",
       "2           True\n",
       "3           True\n",
       "4           True\n",
       "           ...  \n",
       "1017204    False\n",
       "1017205    False\n",
       "1017206    False\n",
       "1017207    False\n",
       "1017208    False\n",
       "Name: Promo, Length: 1017209, dtype: bool"
      ]
     },
     "execution_count": 38,
     "metadata": {},
     "output_type": "execute_result"
    }
   ],
   "source": [
    "promo_periods"
   ]
  },
  {
   "cell_type": "code",
   "execution_count": 39,
   "id": "a5939c72",
   "metadata": {},
   "outputs": [],
   "source": [
    "# The sales and number of customers during promotional and non-promotional periods\n",
    "sales_during_promo = df3[promo_periods]['Sales'].mean()\n",
    "sales_without_promo = df3[~promo_periods]['Sales'].mean()"
   ]
  },
  {
   "cell_type": "code",
   "execution_count": 40,
   "id": "73d41053",
   "metadata": {},
   "outputs": [
    {
     "data": {
      "text/plain": [
       "7991.152045969903"
      ]
     },
     "execution_count": 40,
     "metadata": {},
     "output_type": "execute_result"
    }
   ],
   "source": [
    "sales_during_promo"
   ]
  },
  {
   "cell_type": "code",
   "execution_count": 41,
   "id": "c9f53dd1",
   "metadata": {},
   "outputs": [
    {
     "data": {
      "text/plain": [
       "4406.050805160786"
      ]
     },
     "execution_count": 41,
     "metadata": {},
     "output_type": "execute_result"
    }
   ],
   "source": [
    "sales_without_promo"
   ]
  },
  {
   "cell_type": "code",
   "execution_count": 42,
   "id": "35923984",
   "metadata": {},
   "outputs": [],
   "source": [
    "customers_during_promo = df3[promo_periods]['Customers'].mean()\n",
    "customers_without_promo = df3[~promo_periods]['Customers'].mean()"
   ]
  },
  {
   "cell_type": "code",
   "execution_count": 43,
   "id": "0b07242f",
   "metadata": {},
   "outputs": [
    {
     "data": {
      "text/plain": [
       "820.0988146773861"
      ]
     },
     "execution_count": 43,
     "metadata": {},
     "output_type": "execute_result"
    }
   ],
   "source": [
    "customers_during_promo"
   ]
  },
  {
   "cell_type": "code",
   "execution_count": 44,
   "id": "5269d6e1",
   "metadata": {},
   "outputs": [
    {
     "data": {
      "text/plain": [
       "517.8235417537579"
      ]
     },
     "execution_count": 44,
     "metadata": {},
     "output_type": "execute_result"
    }
   ],
   "source": [
    "customers_without_promo"
   ]
  },
  {
   "cell_type": "code",
   "execution_count": 45,
   "id": "5a614734",
   "metadata": {},
   "outputs": [
    {
     "name": "stdout",
     "output_type": "stream",
     "text": [
      "Average Sales During Promotion: 7991.152045969903\n",
      "Average Sales Without Promotion: 4406.050805160786\n"
     ]
    }
   ],
   "source": [
    "# Analyzed the impact of promotions on sales\n",
    "print(\"Average Sales During Promotion:\", sales_during_promo)\n",
    "print(\"Average Sales Without Promotion:\", sales_without_promo)"
   ]
  },
  {
   "cell_type": "code",
   "execution_count": 46,
   "id": "18520c05",
   "metadata": {},
   "outputs": [
    {
     "name": "stdout",
     "output_type": "stream",
     "text": [
      "Average Customers During Promotion: 820.0988146773861\n",
      "Average Customers Without Promotion: 517.8235417537579\n"
     ]
    }
   ],
   "source": [
    "# Analyzed the impact of promotions on customers\n",
    "print(\"Average Customers During Promotion:\", customers_during_promo)\n",
    "print(\"Average Customers Without Promotion:\", customers_without_promo)"
   ]
  },
  {
   "cell_type": "code",
   "execution_count": 47,
   "id": "8f784e07",
   "metadata": {},
   "outputs": [],
   "source": [
    "# The average sales for each store during promotional and non-promotional periods\n",
    "store_sales_during_promo = df3[promo_periods].groupby('Store')['Sales'].mean()\n",
    "store_sales_without_promo = df3[~promo_periods].groupby('Store')['Sales'].mean()"
   ]
  },
  {
   "cell_type": "code",
   "execution_count": 48,
   "id": "4e721bdc",
   "metadata": {},
   "outputs": [
    {
     "data": {
      "text/plain": [
       "Store\n",
       "1        5152.886111\n",
       "2        6172.816667\n",
       "3        8608.666667\n",
       "4       10370.511111\n",
       "5        5944.266667\n",
       "            ...     \n",
       "1111     6395.294444\n",
       "1112    12490.363889\n",
       "1113     7320.086111\n",
       "1114    21601.497222\n",
       "1115     7073.266667\n",
       "Name: Sales, Length: 1115, dtype: float64"
      ]
     },
     "execution_count": 48,
     "metadata": {},
     "output_type": "execute_result"
    }
   ],
   "source": [
    "store_sales_during_promo"
   ]
  },
  {
   "cell_type": "code",
   "execution_count": 49,
   "id": "9fd2b8e9",
   "metadata": {},
   "outputs": [
    {
     "data": {
      "text/plain": [
       "Store\n",
       "1        3198.994845\n",
       "2        2855.058419\n",
       "3        3967.596220\n",
       "4        6568.939863\n",
       "5        2582.271478\n",
       "            ...     \n",
       "1111     3073.487973\n",
       "1112     5975.537801\n",
       "1113     4400.362543\n",
       "1114    14477.742268\n",
       "1115     4082.221649\n",
       "Name: Sales, Length: 1115, dtype: float64"
      ]
     },
     "execution_count": 49,
     "metadata": {},
     "output_type": "execute_result"
    }
   ],
   "source": [
    "store_sales_without_promo"
   ]
  },
  {
   "cell_type": "code",
   "execution_count": 50,
   "id": "42dcfe82",
   "metadata": {},
   "outputs": [],
   "source": [
    "# The percentage increase in sales for each store during promotional periods\n",
    "percentage_increase = ((store_sales_during_promo - store_sales_without_promo) / store_sales_without_promo) * 100"
   ]
  },
  {
   "cell_type": "code",
   "execution_count": 51,
   "id": "c4c23bc1",
   "metadata": {},
   "outputs": [
    {
     "data": {
      "text/plain": [
       "Store\n",
       "1        61.078287\n",
       "2       116.206317\n",
       "3       116.974364\n",
       "4        57.871914\n",
       "5       130.195265\n",
       "           ...    \n",
       "1111    108.079371\n",
       "1112    109.024933\n",
       "1113     66.351887\n",
       "1114     49.204875\n",
       "1115     73.270030\n",
       "Name: Sales, Length: 1115, dtype: float64"
      ]
     },
     "execution_count": 51,
     "metadata": {},
     "output_type": "execute_result"
    }
   ],
   "source": [
    "percentage_increase"
   ]
  },
  {
   "cell_type": "code",
   "execution_count": 52,
   "id": "25faf3c6",
   "metadata": {},
   "outputs": [],
   "source": [
    "# Identified the stores where promotions lead to a significant increase in sales\n",
    "effective_stores = percentage_increase[percentage_increase > 0]"
   ]
  },
  {
   "cell_type": "code",
   "execution_count": 53,
   "id": "72df7099",
   "metadata": {},
   "outputs": [
    {
     "data": {
      "text/plain": [
       "Store\n",
       "1        61.078287\n",
       "2       116.206317\n",
       "3       116.974364\n",
       "4        57.871914\n",
       "5       130.195265\n",
       "           ...    \n",
       "1111    108.079371\n",
       "1112    109.024933\n",
       "1113     66.351887\n",
       "1114     49.204875\n",
       "1115     73.270030\n",
       "Name: Sales, Length: 1114, dtype: float64"
      ]
     },
     "execution_count": 53,
     "metadata": {},
     "output_type": "execute_result"
    }
   ],
   "source": [
    "effective_stores"
   ]
  },
  {
   "cell_type": "code",
   "execution_count": 54,
   "id": "dda5271f",
   "metadata": {},
   "outputs": [],
   "source": [
    "# Sorted the stores based on the percentage increase in sales\n",
    "effective_stores = effective_stores.sort_values(ascending=False)"
   ]
  },
  {
   "cell_type": "code",
   "execution_count": 55,
   "id": "27d9c39c",
   "metadata": {},
   "outputs": [
    {
     "data": {
      "text/plain": [
       "Store\n",
       "198    225.819471\n",
       "607    188.983127\n",
       "543    175.906381\n",
       "575    173.723366\n",
       "271    162.043969\n",
       "          ...    \n",
       "85       6.332688\n",
       "353      4.589823\n",
       "676      3.692422\n",
       "948      2.871735\n",
       "262      2.150396\n",
       "Name: Sales, Length: 1114, dtype: float64"
      ]
     },
     "execution_count": 55,
     "metadata": {},
     "output_type": "execute_result"
    }
   ],
   "source": [
    "effective_stores"
   ]
  },
  {
   "cell_type": "code",
   "execution_count": 56,
   "id": "c5003819",
   "metadata": {},
   "outputs": [
    {
     "name": "stdout",
     "output_type": "stream",
     "text": [
      "Stores where promotions lead to a significant increase in sales:\n",
      "Store\n",
      "198    225.819471\n",
      "607    188.983127\n",
      "543    175.906381\n",
      "575    173.723366\n",
      "271    162.043969\n",
      "          ...    \n",
      "85       6.332688\n",
      "353      4.589823\n",
      "676      3.692422\n",
      "948      2.871735\n",
      "262      2.150396\n",
      "Name: Sales, Length: 1114, dtype: float64\n"
     ]
    }
   ],
   "source": [
    "print(\"Stores where promotions lead to a significant increase in sales:\")\n",
    "print(effective_stores)"
   ]
  },
  {
   "cell_type": "code",
   "execution_count": 57,
   "id": "93530deb",
   "metadata": {},
   "outputs": [],
   "source": [
    "# Defined the opening and closing times of the stores\n",
    "store_opening_time = '09:00:00'\n",
    "store_closing_time = '18:00:00'"
   ]
  },
  {
   "cell_type": "code",
   "execution_count": 58,
   "id": "000fe088",
   "metadata": {},
   "outputs": [],
   "source": [
    "# Extracted the hour from the 'Date' column\n",
    "df3['Hour'] = df3['Date'].dt.hour"
   ]
  },
  {
   "cell_type": "code",
   "execution_count": 59,
   "id": "624471f4",
   "metadata": {},
   "outputs": [
    {
     "data": {
      "text/plain": [
       "0          0\n",
       "1          0\n",
       "2          0\n",
       "3          0\n",
       "4          0\n",
       "          ..\n",
       "1017204    0\n",
       "1017205    0\n",
       "1017206    0\n",
       "1017207    0\n",
       "1017208    0\n",
       "Name: Hour, Length: 1017209, dtype: int64"
      ]
     },
     "execution_count": 59,
     "metadata": {},
     "output_type": "execute_result"
    }
   ],
   "source": [
    "df3['Hour']"
   ]
  },
  {
   "cell_type": "code",
   "execution_count": 60,
   "id": "c5a895ca",
   "metadata": {},
   "outputs": [],
   "source": [
    "# Created the column to indicate if the store is open or closed\n",
    "df3['Store_Status'] = ((df3['Hour'] >= int(store_opening_time[:2])) & \n",
    "                               (df3['Hour'] < int(store_closing_time[:2]))).astype(int)"
   ]
  },
  {
   "cell_type": "code",
   "execution_count": 61,
   "id": "3cdf4a34",
   "metadata": {},
   "outputs": [
    {
     "data": {
      "text/plain": [
       "0          0\n",
       "1          0\n",
       "2          0\n",
       "3          0\n",
       "4          0\n",
       "          ..\n",
       "1017204    0\n",
       "1017205    0\n",
       "1017206    0\n",
       "1017207    0\n",
       "1017208    0\n",
       "Name: Store_Status, Length: 1017209, dtype: int32"
      ]
     },
     "execution_count": 61,
     "metadata": {},
     "output_type": "execute_result"
    }
   ],
   "source": [
    "df3['Store_Status']"
   ]
  },
  {
   "cell_type": "code",
   "execution_count": 62,
   "id": "8882f96c",
   "metadata": {},
   "outputs": [],
   "source": [
    "# Calculated the customer behavior metrics for each time interval (open/closed)\n",
    "customer_behavior = df3.groupby('Store_Status')['Customers'].mean()"
   ]
  },
  {
   "cell_type": "code",
   "execution_count": 63,
   "id": "060a5f58",
   "metadata": {},
   "outputs": [
    {
     "data": {
      "text/plain": [
       "Store_Status\n",
       "0    633.145946\n",
       "Name: Customers, dtype: float64"
      ]
     },
     "execution_count": 63,
     "metadata": {},
     "output_type": "execute_result"
    }
   ],
   "source": [
    "customer_behavior"
   ]
  },
  {
   "cell_type": "code",
   "execution_count": 64,
   "id": "17d0f599",
   "metadata": {},
   "outputs": [
    {
     "name": "stdout",
     "output_type": "stream",
     "text": [
      "Average Number of Customers during Store Opening and Closing Times:\n",
      "Store_Status\n",
      "0    633.145946\n",
      "Name: Customers, dtype: float64\n"
     ]
    }
   ],
   "source": [
    "# The average number of customers during store opening and closing times\n",
    "print(\"Average Number of Customers during Store Opening and Closing Times:\")\n",
    "print(customer_behavior)"
   ]
  },
  {
   "cell_type": "code",
   "execution_count": 65,
   "id": "f9d2603f",
   "metadata": {},
   "outputs": [],
   "source": [
    "# Extracted the day of the week (0=Monday, 1=Tuesday, ..., 6=Sunday)\n",
    "df3['Day_of_Week'] = df3['Date'].dt.dayofweek"
   ]
  },
  {
   "cell_type": "code",
   "execution_count": 66,
   "id": "625086d3",
   "metadata": {},
   "outputs": [
    {
     "data": {
      "text/plain": [
       "0          4\n",
       "1          4\n",
       "2          4\n",
       "3          4\n",
       "4          4\n",
       "          ..\n",
       "1017204    1\n",
       "1017205    1\n",
       "1017206    1\n",
       "1017207    1\n",
       "1017208    1\n",
       "Name: Day_of_Week, Length: 1017209, dtype: int64"
      ]
     },
     "execution_count": 66,
     "metadata": {},
     "output_type": "execute_result"
    }
   ],
   "source": [
    "df3['Day_of_Week']"
   ]
  },
  {
   "cell_type": "code",
   "execution_count": 67,
   "id": "27f56e4b",
   "metadata": {},
   "outputs": [],
   "source": [
    "# Created the column to indicate if the store is open or closed\n",
    "df3['Store_Open'] = ((df3['Hour'] >= int(store_opening_time[:2])) & \n",
    "                              (df3['Hour'] < int(store_closing_time[:2])))"
   ]
  },
  {
   "cell_type": "code",
   "execution_count": 68,
   "id": "e8c171da",
   "metadata": {},
   "outputs": [
    {
     "data": {
      "text/plain": [
       "0          False\n",
       "1          False\n",
       "2          False\n",
       "3          False\n",
       "4          False\n",
       "           ...  \n",
       "1017204    False\n",
       "1017205    False\n",
       "1017206    False\n",
       "1017207    False\n",
       "1017208    False\n",
       "Name: Store_Open, Length: 1017209, dtype: bool"
      ]
     },
     "execution_count": 68,
     "metadata": {},
     "output_type": "execute_result"
    }
   ],
   "source": [
    "df3['Store_Open']"
   ]
  },
  {
   "cell_type": "code",
   "execution_count": 69,
   "id": "f4111d58",
   "metadata": {},
   "outputs": [],
   "source": [
    "# Grouped the store and day of the week to check if each store is open on all weekdays\n",
    "stores_open_all_weekdays = df3.groupby('Store')['Store_Open'].sum() == 5  "
   ]
  },
  {
   "cell_type": "code",
   "execution_count": 70,
   "id": "d1abf0c8",
   "metadata": {},
   "outputs": [
    {
     "data": {
      "text/plain": [
       "Store\n",
       "1       False\n",
       "2       False\n",
       "3       False\n",
       "4       False\n",
       "5       False\n",
       "        ...  \n",
       "1111    False\n",
       "1112    False\n",
       "1113    False\n",
       "1114    False\n",
       "1115    False\n",
       "Name: Store_Open, Length: 1115, dtype: bool"
      ]
     },
     "execution_count": 70,
     "metadata": {},
     "output_type": "execute_result"
    }
   ],
   "source": [
    "stores_open_all_weekdays"
   ]
  },
  {
   "cell_type": "code",
   "execution_count": 71,
   "id": "ed67ceeb",
   "metadata": {},
   "outputs": [],
   "source": [
    "# The correlation between sales and competitor distance\n",
    "correlation = df3['Sales'].corr(df2['CompetitionDistance'])"
   ]
  },
  {
   "cell_type": "code",
   "execution_count": 72,
   "id": "8809434e",
   "metadata": {},
   "outputs": [
    {
     "data": {
      "text/plain": [
       "0.004085248059166635"
      ]
     },
     "execution_count": 72,
     "metadata": {},
     "output_type": "execute_result"
    }
   ],
   "source": [
    "correlation"
   ]
  },
  {
   "cell_type": "code",
   "execution_count": 73,
   "id": "c06284f6",
   "metadata": {},
   "outputs": [
    {
     "name": "stdout",
     "output_type": "stream",
     "text": [
      "Correlation between Sales and Competition Distance: 0.004085248059166635\n"
     ]
    }
   ],
   "source": [
    "# Analyzed the relationship between sales and competitor distance\n",
    "print(\"Correlation between Sales and Competition Distance:\", correlation)"
   ]
  },
  {
   "cell_type": "code",
   "execution_count": 74,
   "id": "2ced31db",
   "metadata": {},
   "outputs": [
    {
     "name": "stdout",
     "output_type": "stream",
     "text": [
      "Some stores or competitors are not in city centers.\n",
      "Distance may still have an impact on sales.\n"
     ]
    }
   ],
   "source": [
    "# The distance matters when the store and its competitors are all in city centers\n",
    "if df2['CompetitionDistance'].mean() == 0:\n",
    "    print(\"All stores and competitors are in city centers.\")\n",
    "    print(\"In this case, distance may not matter as much.\")\n",
    "else:\n",
    "    print(\"Some stores or competitors are not in city centers.\")\n",
    "    print(\"Distance may still have an impact on sales.\")"
   ]
  },
  {
   "cell_type": "code",
   "execution_count": 75,
   "id": "acfc993e",
   "metadata": {},
   "outputs": [],
   "source": [
    "# Identified the stores with NA values for competitor distance\n",
    "stores_with_na_distance = df2[df2['CompetitionDistance'].isna()]['Store'].unique()"
   ]
  },
  {
   "cell_type": "code",
   "execution_count": 76,
   "id": "5fe6821a",
   "metadata": {},
   "outputs": [
    {
     "data": {
      "text/plain": [
       "array([291, 622, 879], dtype=int64)"
      ]
     },
     "execution_count": 76,
     "metadata": {},
     "output_type": "execute_result"
    }
   ],
   "source": [
    "stores_with_na_distance"
   ]
  },
  {
   "cell_type": "code",
   "execution_count": 77,
   "id": "680ebac6",
   "metadata": {},
   "outputs": [],
   "source": [
    "# Checked the stores that have values for competitor distance\n",
    "stores_with_na_distance_later = df2[(df2['Store'].isin(stores_with_na_distance)) & \n",
    "                                            (~df2['CompetitionDistance'].isna())]['Store'].unique()"
   ]
  },
  {
   "cell_type": "code",
   "execution_count": 78,
   "id": "b4a41c04",
   "metadata": {},
   "outputs": [
    {
     "data": {
      "text/plain": [
       "array([], dtype=int64)"
      ]
     },
     "execution_count": 78,
     "metadata": {},
     "output_type": "execute_result"
    }
   ],
   "source": [
    "stores_with_na_distance_later"
   ]
  },
  {
   "cell_type": "code",
   "execution_count": 79,
   "id": "92f6e2d8",
   "metadata": {},
   "outputs": [
    {
     "name": "stdout",
     "output_type": "stream",
     "text": [
      "No stores with NA as competitor distance have later values for competitor distance.\n"
     ]
    }
   ],
   "source": [
    "# Analyzed that how the opening or reopening of new competitors affects stores\n",
    "if len(stores_with_na_distance_later) > 0:\n",
    "    print(\"Stores with NA as competitor distance but later have values for competitor distance:\")\n",
    "    print(stores_with_na_distance_later)\n",
    "else:\n",
    "    print(\"No stores with NA as competitor distance have later values for competitor distance.\")"
   ]
  },
  {
   "cell_type": "code",
   "execution_count": 80,
   "id": "a10a57a9",
   "metadata": {},
   "outputs": [],
   "source": [
    "#Task-2: Prediction of store sales.\n",
    "# Preprocessed datetime columns\n",
    "from sklearn.preprocessing import LabelEncoder\n",
    "from sklearn.impute import SimpleImputer\n",
    "from sklearn.model_selection import train_test_split"
   ]
  },
  {
   "cell_type": "code",
   "execution_count": 81,
   "id": "b553d3a6",
   "metadata": {},
   "outputs": [],
   "source": [
    "# Converted the non-numeric columns to numeric using LabelEncoder\n",
    "label_encoder = LabelEncoder()\n",
    "for column in df2.columns:\n",
    "    if df2[column].dtype == 'object':\n",
    "        df2[column] = label_encoder.fit_transform(df2[column])"
   ]
  },
  {
   "cell_type": "code",
   "execution_count": 82,
   "id": "ad266465",
   "metadata": {},
   "outputs": [
    {
     "data": {
      "text/html": [
       "<style>#sk-container-id-1 {color: black;background-color: white;}#sk-container-id-1 pre{padding: 0;}#sk-container-id-1 div.sk-toggleable {background-color: white;}#sk-container-id-1 label.sk-toggleable__label {cursor: pointer;display: block;width: 100%;margin-bottom: 0;padding: 0.3em;box-sizing: border-box;text-align: center;}#sk-container-id-1 label.sk-toggleable__label-arrow:before {content: \"▸\";float: left;margin-right: 0.25em;color: #696969;}#sk-container-id-1 label.sk-toggleable__label-arrow:hover:before {color: black;}#sk-container-id-1 div.sk-estimator:hover label.sk-toggleable__label-arrow:before {color: black;}#sk-container-id-1 div.sk-toggleable__content {max-height: 0;max-width: 0;overflow: hidden;text-align: left;background-color: #f0f8ff;}#sk-container-id-1 div.sk-toggleable__content pre {margin: 0.2em;color: black;border-radius: 0.25em;background-color: #f0f8ff;}#sk-container-id-1 input.sk-toggleable__control:checked~div.sk-toggleable__content {max-height: 200px;max-width: 100%;overflow: auto;}#sk-container-id-1 input.sk-toggleable__control:checked~label.sk-toggleable__label-arrow:before {content: \"▾\";}#sk-container-id-1 div.sk-estimator input.sk-toggleable__control:checked~label.sk-toggleable__label {background-color: #d4ebff;}#sk-container-id-1 div.sk-label input.sk-toggleable__control:checked~label.sk-toggleable__label {background-color: #d4ebff;}#sk-container-id-1 input.sk-hidden--visually {border: 0;clip: rect(1px 1px 1px 1px);clip: rect(1px, 1px, 1px, 1px);height: 1px;margin: -1px;overflow: hidden;padding: 0;position: absolute;width: 1px;}#sk-container-id-1 div.sk-estimator {font-family: monospace;background-color: #f0f8ff;border: 1px dotted black;border-radius: 0.25em;box-sizing: border-box;margin-bottom: 0.5em;}#sk-container-id-1 div.sk-estimator:hover {background-color: #d4ebff;}#sk-container-id-1 div.sk-parallel-item::after {content: \"\";width: 100%;border-bottom: 1px solid gray;flex-grow: 1;}#sk-container-id-1 div.sk-label:hover label.sk-toggleable__label {background-color: #d4ebff;}#sk-container-id-1 div.sk-serial::before {content: \"\";position: absolute;border-left: 1px solid gray;box-sizing: border-box;top: 0;bottom: 0;left: 50%;z-index: 0;}#sk-container-id-1 div.sk-serial {display: flex;flex-direction: column;align-items: center;background-color: white;padding-right: 0.2em;padding-left: 0.2em;position: relative;}#sk-container-id-1 div.sk-item {position: relative;z-index: 1;}#sk-container-id-1 div.sk-parallel {display: flex;align-items: stretch;justify-content: center;background-color: white;position: relative;}#sk-container-id-1 div.sk-item::before, #sk-container-id-1 div.sk-parallel-item::before {content: \"\";position: absolute;border-left: 1px solid gray;box-sizing: border-box;top: 0;bottom: 0;left: 50%;z-index: -1;}#sk-container-id-1 div.sk-parallel-item {display: flex;flex-direction: column;z-index: 1;position: relative;background-color: white;}#sk-container-id-1 div.sk-parallel-item:first-child::after {align-self: flex-end;width: 50%;}#sk-container-id-1 div.sk-parallel-item:last-child::after {align-self: flex-start;width: 50%;}#sk-container-id-1 div.sk-parallel-item:only-child::after {width: 0;}#sk-container-id-1 div.sk-dashed-wrapped {border: 1px dashed gray;margin: 0 0.4em 0.5em 0.4em;box-sizing: border-box;padding-bottom: 0.4em;background-color: white;}#sk-container-id-1 div.sk-label label {font-family: monospace;font-weight: bold;display: inline-block;line-height: 1.2em;}#sk-container-id-1 div.sk-label-container {text-align: center;}#sk-container-id-1 div.sk-container {/* jupyter's `normalize.less` sets `[hidden] { display: none; }` but bootstrap.min.css set `[hidden] { display: none !important; }` so we also need the `!important` here to be able to override the default hidden behavior on the sphinx rendered scikit-learn.org. See: https://github.com/scikit-learn/scikit-learn/issues/21755 */display: inline-block !important;position: relative;}#sk-container-id-1 div.sk-text-repr-fallback {display: none;}</style><div id=\"sk-container-id-1\" class=\"sk-top-container\"><div class=\"sk-text-repr-fallback\"><pre>LabelEncoder()</pre><b>In a Jupyter environment, please rerun this cell to show the HTML representation or trust the notebook. <br />On GitHub, the HTML representation is unable to render, please try loading this page with nbviewer.org.</b></div><div class=\"sk-container\" hidden><div class=\"sk-item\"><div class=\"sk-estimator sk-toggleable\"><input class=\"sk-toggleable__control sk-hidden--visually\" id=\"sk-estimator-id-1\" type=\"checkbox\" checked><label for=\"sk-estimator-id-1\" class=\"sk-toggleable__label sk-toggleable__label-arrow\">LabelEncoder</label><div class=\"sk-toggleable__content\"><pre>LabelEncoder()</pre></div></div></div></div></div>"
      ],
      "text/plain": [
       "LabelEncoder()"
      ]
     },
     "execution_count": 82,
     "metadata": {},
     "output_type": "execute_result"
    }
   ],
   "source": [
    "label_encoder"
   ]
  },
  {
   "cell_type": "code",
   "execution_count": 83,
   "id": "a3dddb59",
   "metadata": {},
   "outputs": [
    {
     "data": {
      "text/plain": [
       "0       3\n",
       "1       1\n",
       "2       1\n",
       "3       3\n",
       "4       3\n",
       "       ..\n",
       "1110    1\n",
       "1111    3\n",
       "1112    3\n",
       "1113    3\n",
       "1114    2\n",
       "Name: PromoInterval, Length: 1115, dtype: int32"
      ]
     },
     "execution_count": 83,
     "metadata": {},
     "output_type": "execute_result"
    }
   ],
   "source": [
    "df2[column]"
   ]
  },
  {
   "cell_type": "code",
   "execution_count": 84,
   "id": "0458c243",
   "metadata": {},
   "outputs": [],
   "source": [
    "imputer = SimpleImputer(strategy='mean')\n",
    "df2.fillna(df2.mean(), inplace=True)"
   ]
  },
  {
   "cell_type": "code",
   "execution_count": 85,
   "id": "722f0ebe",
   "metadata": {},
   "outputs": [
    {
     "data": {
      "text/html": [
       "<style>#sk-container-id-2 {color: black;background-color: white;}#sk-container-id-2 pre{padding: 0;}#sk-container-id-2 div.sk-toggleable {background-color: white;}#sk-container-id-2 label.sk-toggleable__label {cursor: pointer;display: block;width: 100%;margin-bottom: 0;padding: 0.3em;box-sizing: border-box;text-align: center;}#sk-container-id-2 label.sk-toggleable__label-arrow:before {content: \"▸\";float: left;margin-right: 0.25em;color: #696969;}#sk-container-id-2 label.sk-toggleable__label-arrow:hover:before {color: black;}#sk-container-id-2 div.sk-estimator:hover label.sk-toggleable__label-arrow:before {color: black;}#sk-container-id-2 div.sk-toggleable__content {max-height: 0;max-width: 0;overflow: hidden;text-align: left;background-color: #f0f8ff;}#sk-container-id-2 div.sk-toggleable__content pre {margin: 0.2em;color: black;border-radius: 0.25em;background-color: #f0f8ff;}#sk-container-id-2 input.sk-toggleable__control:checked~div.sk-toggleable__content {max-height: 200px;max-width: 100%;overflow: auto;}#sk-container-id-2 input.sk-toggleable__control:checked~label.sk-toggleable__label-arrow:before {content: \"▾\";}#sk-container-id-2 div.sk-estimator input.sk-toggleable__control:checked~label.sk-toggleable__label {background-color: #d4ebff;}#sk-container-id-2 div.sk-label input.sk-toggleable__control:checked~label.sk-toggleable__label {background-color: #d4ebff;}#sk-container-id-2 input.sk-hidden--visually {border: 0;clip: rect(1px 1px 1px 1px);clip: rect(1px, 1px, 1px, 1px);height: 1px;margin: -1px;overflow: hidden;padding: 0;position: absolute;width: 1px;}#sk-container-id-2 div.sk-estimator {font-family: monospace;background-color: #f0f8ff;border: 1px dotted black;border-radius: 0.25em;box-sizing: border-box;margin-bottom: 0.5em;}#sk-container-id-2 div.sk-estimator:hover {background-color: #d4ebff;}#sk-container-id-2 div.sk-parallel-item::after {content: \"\";width: 100%;border-bottom: 1px solid gray;flex-grow: 1;}#sk-container-id-2 div.sk-label:hover label.sk-toggleable__label {background-color: #d4ebff;}#sk-container-id-2 div.sk-serial::before {content: \"\";position: absolute;border-left: 1px solid gray;box-sizing: border-box;top: 0;bottom: 0;left: 50%;z-index: 0;}#sk-container-id-2 div.sk-serial {display: flex;flex-direction: column;align-items: center;background-color: white;padding-right: 0.2em;padding-left: 0.2em;position: relative;}#sk-container-id-2 div.sk-item {position: relative;z-index: 1;}#sk-container-id-2 div.sk-parallel {display: flex;align-items: stretch;justify-content: center;background-color: white;position: relative;}#sk-container-id-2 div.sk-item::before, #sk-container-id-2 div.sk-parallel-item::before {content: \"\";position: absolute;border-left: 1px solid gray;box-sizing: border-box;top: 0;bottom: 0;left: 50%;z-index: -1;}#sk-container-id-2 div.sk-parallel-item {display: flex;flex-direction: column;z-index: 1;position: relative;background-color: white;}#sk-container-id-2 div.sk-parallel-item:first-child::after {align-self: flex-end;width: 50%;}#sk-container-id-2 div.sk-parallel-item:last-child::after {align-self: flex-start;width: 50%;}#sk-container-id-2 div.sk-parallel-item:only-child::after {width: 0;}#sk-container-id-2 div.sk-dashed-wrapped {border: 1px dashed gray;margin: 0 0.4em 0.5em 0.4em;box-sizing: border-box;padding-bottom: 0.4em;background-color: white;}#sk-container-id-2 div.sk-label label {font-family: monospace;font-weight: bold;display: inline-block;line-height: 1.2em;}#sk-container-id-2 div.sk-label-container {text-align: center;}#sk-container-id-2 div.sk-container {/* jupyter's `normalize.less` sets `[hidden] { display: none; }` but bootstrap.min.css set `[hidden] { display: none !important; }` so we also need the `!important` here to be able to override the default hidden behavior on the sphinx rendered scikit-learn.org. See: https://github.com/scikit-learn/scikit-learn/issues/21755 */display: inline-block !important;position: relative;}#sk-container-id-2 div.sk-text-repr-fallback {display: none;}</style><div id=\"sk-container-id-2\" class=\"sk-top-container\"><div class=\"sk-text-repr-fallback\"><pre>SimpleImputer()</pre><b>In a Jupyter environment, please rerun this cell to show the HTML representation or trust the notebook. <br />On GitHub, the HTML representation is unable to render, please try loading this page with nbviewer.org.</b></div><div class=\"sk-container\" hidden><div class=\"sk-item\"><div class=\"sk-estimator sk-toggleable\"><input class=\"sk-toggleable__control sk-hidden--visually\" id=\"sk-estimator-id-2\" type=\"checkbox\" checked><label for=\"sk-estimator-id-2\" class=\"sk-toggleable__label sk-toggleable__label-arrow\">SimpleImputer</label><div class=\"sk-toggleable__content\"><pre>SimpleImputer()</pre></div></div></div></div></div>"
      ],
      "text/plain": [
       "SimpleImputer()"
      ]
     },
     "execution_count": 85,
     "metadata": {},
     "output_type": "execute_result"
    }
   ],
   "source": [
    "imputer"
   ]
  },
  {
   "cell_type": "code",
   "execution_count": 86,
   "id": "22965f75",
   "metadata": {},
   "outputs": [
    {
     "data": {
      "text/html": [
       "<div>\n",
       "<style scoped>\n",
       "    .dataframe tbody tr th:only-of-type {\n",
       "        vertical-align: middle;\n",
       "    }\n",
       "\n",
       "    .dataframe tbody tr th {\n",
       "        vertical-align: top;\n",
       "    }\n",
       "\n",
       "    .dataframe thead th {\n",
       "        text-align: right;\n",
       "    }\n",
       "</style>\n",
       "<table border=\"1\" class=\"dataframe\">\n",
       "  <thead>\n",
       "    <tr style=\"text-align: right;\">\n",
       "      <th></th>\n",
       "      <th>Store</th>\n",
       "      <th>StoreType</th>\n",
       "      <th>Assortment</th>\n",
       "      <th>CompetitionDistance</th>\n",
       "      <th>CompetitionOpenSinceMonth</th>\n",
       "      <th>CompetitionOpenSinceYear</th>\n",
       "      <th>Promo2</th>\n",
       "      <th>Promo2SinceWeek</th>\n",
       "      <th>Promo2SinceYear</th>\n",
       "      <th>PromoInterval</th>\n",
       "    </tr>\n",
       "  </thead>\n",
       "  <tbody>\n",
       "    <tr>\n",
       "      <th>0</th>\n",
       "      <td>1</td>\n",
       "      <td>2</td>\n",
       "      <td>0</td>\n",
       "      <td>1270.0</td>\n",
       "      <td>9.000000</td>\n",
       "      <td>2008.000000</td>\n",
       "      <td>0</td>\n",
       "      <td>23.595447</td>\n",
       "      <td>2011.763573</td>\n",
       "      <td>3</td>\n",
       "    </tr>\n",
       "    <tr>\n",
       "      <th>1</th>\n",
       "      <td>2</td>\n",
       "      <td>0</td>\n",
       "      <td>0</td>\n",
       "      <td>570.0</td>\n",
       "      <td>11.000000</td>\n",
       "      <td>2007.000000</td>\n",
       "      <td>1</td>\n",
       "      <td>13.000000</td>\n",
       "      <td>2010.000000</td>\n",
       "      <td>1</td>\n",
       "    </tr>\n",
       "    <tr>\n",
       "      <th>2</th>\n",
       "      <td>3</td>\n",
       "      <td>0</td>\n",
       "      <td>0</td>\n",
       "      <td>14130.0</td>\n",
       "      <td>12.000000</td>\n",
       "      <td>2006.000000</td>\n",
       "      <td>1</td>\n",
       "      <td>14.000000</td>\n",
       "      <td>2011.000000</td>\n",
       "      <td>1</td>\n",
       "    </tr>\n",
       "    <tr>\n",
       "      <th>3</th>\n",
       "      <td>4</td>\n",
       "      <td>2</td>\n",
       "      <td>2</td>\n",
       "      <td>620.0</td>\n",
       "      <td>9.000000</td>\n",
       "      <td>2009.000000</td>\n",
       "      <td>0</td>\n",
       "      <td>23.595447</td>\n",
       "      <td>2011.763573</td>\n",
       "      <td>3</td>\n",
       "    </tr>\n",
       "    <tr>\n",
       "      <th>4</th>\n",
       "      <td>5</td>\n",
       "      <td>0</td>\n",
       "      <td>0</td>\n",
       "      <td>29910.0</td>\n",
       "      <td>4.000000</td>\n",
       "      <td>2015.000000</td>\n",
       "      <td>0</td>\n",
       "      <td>23.595447</td>\n",
       "      <td>2011.763573</td>\n",
       "      <td>3</td>\n",
       "    </tr>\n",
       "    <tr>\n",
       "      <th>...</th>\n",
       "      <td>...</td>\n",
       "      <td>...</td>\n",
       "      <td>...</td>\n",
       "      <td>...</td>\n",
       "      <td>...</td>\n",
       "      <td>...</td>\n",
       "      <td>...</td>\n",
       "      <td>...</td>\n",
       "      <td>...</td>\n",
       "      <td>...</td>\n",
       "    </tr>\n",
       "    <tr>\n",
       "      <th>1110</th>\n",
       "      <td>1111</td>\n",
       "      <td>0</td>\n",
       "      <td>0</td>\n",
       "      <td>1900.0</td>\n",
       "      <td>6.000000</td>\n",
       "      <td>2014.000000</td>\n",
       "      <td>1</td>\n",
       "      <td>31.000000</td>\n",
       "      <td>2013.000000</td>\n",
       "      <td>1</td>\n",
       "    </tr>\n",
       "    <tr>\n",
       "      <th>1111</th>\n",
       "      <td>1112</td>\n",
       "      <td>2</td>\n",
       "      <td>2</td>\n",
       "      <td>1880.0</td>\n",
       "      <td>4.000000</td>\n",
       "      <td>2006.000000</td>\n",
       "      <td>0</td>\n",
       "      <td>23.595447</td>\n",
       "      <td>2011.763573</td>\n",
       "      <td>3</td>\n",
       "    </tr>\n",
       "    <tr>\n",
       "      <th>1112</th>\n",
       "      <td>1113</td>\n",
       "      <td>0</td>\n",
       "      <td>2</td>\n",
       "      <td>9260.0</td>\n",
       "      <td>7.224704</td>\n",
       "      <td>2008.668857</td>\n",
       "      <td>0</td>\n",
       "      <td>23.595447</td>\n",
       "      <td>2011.763573</td>\n",
       "      <td>3</td>\n",
       "    </tr>\n",
       "    <tr>\n",
       "      <th>1113</th>\n",
       "      <td>1114</td>\n",
       "      <td>0</td>\n",
       "      <td>2</td>\n",
       "      <td>870.0</td>\n",
       "      <td>7.224704</td>\n",
       "      <td>2008.668857</td>\n",
       "      <td>0</td>\n",
       "      <td>23.595447</td>\n",
       "      <td>2011.763573</td>\n",
       "      <td>3</td>\n",
       "    </tr>\n",
       "    <tr>\n",
       "      <th>1114</th>\n",
       "      <td>1115</td>\n",
       "      <td>3</td>\n",
       "      <td>2</td>\n",
       "      <td>5350.0</td>\n",
       "      <td>7.224704</td>\n",
       "      <td>2008.668857</td>\n",
       "      <td>1</td>\n",
       "      <td>22.000000</td>\n",
       "      <td>2012.000000</td>\n",
       "      <td>2</td>\n",
       "    </tr>\n",
       "  </tbody>\n",
       "</table>\n",
       "<p>1115 rows × 10 columns</p>\n",
       "</div>"
      ],
      "text/plain": [
       "      Store  StoreType  Assortment  CompetitionDistance  \\\n",
       "0         1          2           0               1270.0   \n",
       "1         2          0           0                570.0   \n",
       "2         3          0           0              14130.0   \n",
       "3         4          2           2                620.0   \n",
       "4         5          0           0              29910.0   \n",
       "...     ...        ...         ...                  ...   \n",
       "1110   1111          0           0               1900.0   \n",
       "1111   1112          2           2               1880.0   \n",
       "1112   1113          0           2               9260.0   \n",
       "1113   1114          0           2                870.0   \n",
       "1114   1115          3           2               5350.0   \n",
       "\n",
       "      CompetitionOpenSinceMonth  CompetitionOpenSinceYear  Promo2  \\\n",
       "0                      9.000000               2008.000000       0   \n",
       "1                     11.000000               2007.000000       1   \n",
       "2                     12.000000               2006.000000       1   \n",
       "3                      9.000000               2009.000000       0   \n",
       "4                      4.000000               2015.000000       0   \n",
       "...                         ...                       ...     ...   \n",
       "1110                   6.000000               2014.000000       1   \n",
       "1111                   4.000000               2006.000000       0   \n",
       "1112                   7.224704               2008.668857       0   \n",
       "1113                   7.224704               2008.668857       0   \n",
       "1114                   7.224704               2008.668857       1   \n",
       "\n",
       "      Promo2SinceWeek  Promo2SinceYear  PromoInterval  \n",
       "0           23.595447      2011.763573              3  \n",
       "1           13.000000      2010.000000              1  \n",
       "2           14.000000      2011.000000              1  \n",
       "3           23.595447      2011.763573              3  \n",
       "4           23.595447      2011.763573              3  \n",
       "...               ...              ...            ...  \n",
       "1110        31.000000      2013.000000              1  \n",
       "1111        23.595447      2011.763573              3  \n",
       "1112        23.595447      2011.763573              3  \n",
       "1113        23.595447      2011.763573              3  \n",
       "1114        22.000000      2012.000000              2  \n",
       "\n",
       "[1115 rows x 10 columns]"
      ]
     },
     "execution_count": 86,
     "metadata": {},
     "output_type": "execute_result"
    }
   ],
   "source": [
    "df2"
   ]
  },
  {
   "cell_type": "code",
   "execution_count": 87,
   "id": "da2e5ddd",
   "metadata": {},
   "outputs": [],
   "source": [
    "X = df2.drop(columns=['CompetitionDistance'])\n",
    "y = df2['CompetitionOpenSinceMonth']"
   ]
  },
  {
   "cell_type": "code",
   "execution_count": 88,
   "id": "a23cf980",
   "metadata": {},
   "outputs": [],
   "source": [
    "X_train, X_test, y_train, y_test = train_test_split(X, y, test_size=0.2, random_state=42)"
   ]
  },
  {
   "cell_type": "code",
   "execution_count": 89,
   "id": "ce0d5ef5",
   "metadata": {},
   "outputs": [],
   "source": [
    "df3['Date'] = pd.to_datetime(df3['Date'])"
   ]
  },
  {
   "cell_type": "code",
   "execution_count": 90,
   "id": "e25d4765",
   "metadata": {},
   "outputs": [
    {
     "data": {
      "text/html": [
       "<div>\n",
       "<style scoped>\n",
       "    .dataframe tbody tr th:only-of-type {\n",
       "        vertical-align: middle;\n",
       "    }\n",
       "\n",
       "    .dataframe tbody tr th {\n",
       "        vertical-align: top;\n",
       "    }\n",
       "\n",
       "    .dataframe thead th {\n",
       "        text-align: right;\n",
       "    }\n",
       "</style>\n",
       "<table border=\"1\" class=\"dataframe\">\n",
       "  <thead>\n",
       "    <tr style=\"text-align: right;\">\n",
       "      <th></th>\n",
       "      <th>Store</th>\n",
       "      <th>DayOfWeek</th>\n",
       "      <th>Date</th>\n",
       "      <th>Sales</th>\n",
       "      <th>Customers</th>\n",
       "      <th>Open</th>\n",
       "      <th>Promo</th>\n",
       "      <th>StateHoliday</th>\n",
       "      <th>SchoolHoliday</th>\n",
       "      <th>Hour</th>\n",
       "      <th>Store_Status</th>\n",
       "      <th>Day_of_Week</th>\n",
       "      <th>Store_Open</th>\n",
       "    </tr>\n",
       "  </thead>\n",
       "  <tbody>\n",
       "    <tr>\n",
       "      <th>0</th>\n",
       "      <td>1</td>\n",
       "      <td>5</td>\n",
       "      <td>2015-07-31</td>\n",
       "      <td>5263</td>\n",
       "      <td>555</td>\n",
       "      <td>1</td>\n",
       "      <td>1</td>\n",
       "      <td>0</td>\n",
       "      <td>1</td>\n",
       "      <td>0</td>\n",
       "      <td>0</td>\n",
       "      <td>4</td>\n",
       "      <td>False</td>\n",
       "    </tr>\n",
       "    <tr>\n",
       "      <th>1</th>\n",
       "      <td>2</td>\n",
       "      <td>5</td>\n",
       "      <td>2015-07-31</td>\n",
       "      <td>6064</td>\n",
       "      <td>625</td>\n",
       "      <td>1</td>\n",
       "      <td>1</td>\n",
       "      <td>0</td>\n",
       "      <td>1</td>\n",
       "      <td>0</td>\n",
       "      <td>0</td>\n",
       "      <td>4</td>\n",
       "      <td>False</td>\n",
       "    </tr>\n",
       "    <tr>\n",
       "      <th>2</th>\n",
       "      <td>3</td>\n",
       "      <td>5</td>\n",
       "      <td>2015-07-31</td>\n",
       "      <td>8314</td>\n",
       "      <td>821</td>\n",
       "      <td>1</td>\n",
       "      <td>1</td>\n",
       "      <td>0</td>\n",
       "      <td>1</td>\n",
       "      <td>0</td>\n",
       "      <td>0</td>\n",
       "      <td>4</td>\n",
       "      <td>False</td>\n",
       "    </tr>\n",
       "    <tr>\n",
       "      <th>3</th>\n",
       "      <td>4</td>\n",
       "      <td>5</td>\n",
       "      <td>2015-07-31</td>\n",
       "      <td>13995</td>\n",
       "      <td>1498</td>\n",
       "      <td>1</td>\n",
       "      <td>1</td>\n",
       "      <td>0</td>\n",
       "      <td>1</td>\n",
       "      <td>0</td>\n",
       "      <td>0</td>\n",
       "      <td>4</td>\n",
       "      <td>False</td>\n",
       "    </tr>\n",
       "    <tr>\n",
       "      <th>4</th>\n",
       "      <td>5</td>\n",
       "      <td>5</td>\n",
       "      <td>2015-07-31</td>\n",
       "      <td>4822</td>\n",
       "      <td>559</td>\n",
       "      <td>1</td>\n",
       "      <td>1</td>\n",
       "      <td>0</td>\n",
       "      <td>1</td>\n",
       "      <td>0</td>\n",
       "      <td>0</td>\n",
       "      <td>4</td>\n",
       "      <td>False</td>\n",
       "    </tr>\n",
       "    <tr>\n",
       "      <th>...</th>\n",
       "      <td>...</td>\n",
       "      <td>...</td>\n",
       "      <td>...</td>\n",
       "      <td>...</td>\n",
       "      <td>...</td>\n",
       "      <td>...</td>\n",
       "      <td>...</td>\n",
       "      <td>...</td>\n",
       "      <td>...</td>\n",
       "      <td>...</td>\n",
       "      <td>...</td>\n",
       "      <td>...</td>\n",
       "      <td>...</td>\n",
       "    </tr>\n",
       "    <tr>\n",
       "      <th>1017204</th>\n",
       "      <td>1111</td>\n",
       "      <td>2</td>\n",
       "      <td>2013-01-01</td>\n",
       "      <td>0</td>\n",
       "      <td>0</td>\n",
       "      <td>0</td>\n",
       "      <td>0</td>\n",
       "      <td>a</td>\n",
       "      <td>1</td>\n",
       "      <td>0</td>\n",
       "      <td>0</td>\n",
       "      <td>1</td>\n",
       "      <td>False</td>\n",
       "    </tr>\n",
       "    <tr>\n",
       "      <th>1017205</th>\n",
       "      <td>1112</td>\n",
       "      <td>2</td>\n",
       "      <td>2013-01-01</td>\n",
       "      <td>0</td>\n",
       "      <td>0</td>\n",
       "      <td>0</td>\n",
       "      <td>0</td>\n",
       "      <td>a</td>\n",
       "      <td>1</td>\n",
       "      <td>0</td>\n",
       "      <td>0</td>\n",
       "      <td>1</td>\n",
       "      <td>False</td>\n",
       "    </tr>\n",
       "    <tr>\n",
       "      <th>1017206</th>\n",
       "      <td>1113</td>\n",
       "      <td>2</td>\n",
       "      <td>2013-01-01</td>\n",
       "      <td>0</td>\n",
       "      <td>0</td>\n",
       "      <td>0</td>\n",
       "      <td>0</td>\n",
       "      <td>a</td>\n",
       "      <td>1</td>\n",
       "      <td>0</td>\n",
       "      <td>0</td>\n",
       "      <td>1</td>\n",
       "      <td>False</td>\n",
       "    </tr>\n",
       "    <tr>\n",
       "      <th>1017207</th>\n",
       "      <td>1114</td>\n",
       "      <td>2</td>\n",
       "      <td>2013-01-01</td>\n",
       "      <td>0</td>\n",
       "      <td>0</td>\n",
       "      <td>0</td>\n",
       "      <td>0</td>\n",
       "      <td>a</td>\n",
       "      <td>1</td>\n",
       "      <td>0</td>\n",
       "      <td>0</td>\n",
       "      <td>1</td>\n",
       "      <td>False</td>\n",
       "    </tr>\n",
       "    <tr>\n",
       "      <th>1017208</th>\n",
       "      <td>1115</td>\n",
       "      <td>2</td>\n",
       "      <td>2013-01-01</td>\n",
       "      <td>0</td>\n",
       "      <td>0</td>\n",
       "      <td>0</td>\n",
       "      <td>0</td>\n",
       "      <td>a</td>\n",
       "      <td>1</td>\n",
       "      <td>0</td>\n",
       "      <td>0</td>\n",
       "      <td>1</td>\n",
       "      <td>False</td>\n",
       "    </tr>\n",
       "  </tbody>\n",
       "</table>\n",
       "<p>1017209 rows × 13 columns</p>\n",
       "</div>"
      ],
      "text/plain": [
       "         Store  DayOfWeek       Date  Sales  Customers  Open  Promo  \\\n",
       "0            1          5 2015-07-31   5263        555     1      1   \n",
       "1            2          5 2015-07-31   6064        625     1      1   \n",
       "2            3          5 2015-07-31   8314        821     1      1   \n",
       "3            4          5 2015-07-31  13995       1498     1      1   \n",
       "4            5          5 2015-07-31   4822        559     1      1   \n",
       "...        ...        ...        ...    ...        ...   ...    ...   \n",
       "1017204   1111          2 2013-01-01      0          0     0      0   \n",
       "1017205   1112          2 2013-01-01      0          0     0      0   \n",
       "1017206   1113          2 2013-01-01      0          0     0      0   \n",
       "1017207   1114          2 2013-01-01      0          0     0      0   \n",
       "1017208   1115          2 2013-01-01      0          0     0      0   \n",
       "\n",
       "        StateHoliday  SchoolHoliday  Hour  Store_Status  Day_of_Week  \\\n",
       "0                  0              1     0             0            4   \n",
       "1                  0              1     0             0            4   \n",
       "2                  0              1     0             0            4   \n",
       "3                  0              1     0             0            4   \n",
       "4                  0              1     0             0            4   \n",
       "...              ...            ...   ...           ...          ...   \n",
       "1017204            a              1     0             0            1   \n",
       "1017205            a              1     0             0            1   \n",
       "1017206            a              1     0             0            1   \n",
       "1017207            a              1     0             0            1   \n",
       "1017208            a              1     0             0            1   \n",
       "\n",
       "         Store_Open  \n",
       "0             False  \n",
       "1             False  \n",
       "2             False  \n",
       "3             False  \n",
       "4             False  \n",
       "...             ...  \n",
       "1017204       False  \n",
       "1017205       False  \n",
       "1017206       False  \n",
       "1017207       False  \n",
       "1017208       False  \n",
       "\n",
       "[1017209 rows x 13 columns]"
      ]
     },
     "execution_count": 90,
     "metadata": {},
     "output_type": "execute_result"
    }
   ],
   "source": [
    "df3"
   ]
  },
  {
   "cell_type": "code",
   "execution_count": 91,
   "id": "d9efe033",
   "metadata": {},
   "outputs": [],
   "source": [
    "# Extracted the weekdays and weekends\n",
    "df3['Weekday'] = df3['Date'].dt.day_name()\n",
    "df3['Is_Weekend'] = df3['Date'].dt.dayofweek // 5 "
   ]
  },
  {
   "cell_type": "code",
   "execution_count": 92,
   "id": "87e2635c",
   "metadata": {},
   "outputs": [
    {
     "data": {
      "text/html": [
       "<div>\n",
       "<style scoped>\n",
       "    .dataframe tbody tr th:only-of-type {\n",
       "        vertical-align: middle;\n",
       "    }\n",
       "\n",
       "    .dataframe tbody tr th {\n",
       "        vertical-align: top;\n",
       "    }\n",
       "\n",
       "    .dataframe thead th {\n",
       "        text-align: right;\n",
       "    }\n",
       "</style>\n",
       "<table border=\"1\" class=\"dataframe\">\n",
       "  <thead>\n",
       "    <tr style=\"text-align: right;\">\n",
       "      <th></th>\n",
       "      <th>Store</th>\n",
       "      <th>DayOfWeek</th>\n",
       "      <th>Date</th>\n",
       "      <th>Sales</th>\n",
       "      <th>Customers</th>\n",
       "      <th>Open</th>\n",
       "      <th>Promo</th>\n",
       "      <th>StateHoliday</th>\n",
       "      <th>SchoolHoliday</th>\n",
       "      <th>Hour</th>\n",
       "      <th>Store_Status</th>\n",
       "      <th>Day_of_Week</th>\n",
       "      <th>Store_Open</th>\n",
       "      <th>Weekday</th>\n",
       "      <th>Is_Weekend</th>\n",
       "    </tr>\n",
       "  </thead>\n",
       "  <tbody>\n",
       "    <tr>\n",
       "      <th>0</th>\n",
       "      <td>1</td>\n",
       "      <td>5</td>\n",
       "      <td>2015-07-31</td>\n",
       "      <td>5263</td>\n",
       "      <td>555</td>\n",
       "      <td>1</td>\n",
       "      <td>1</td>\n",
       "      <td>0</td>\n",
       "      <td>1</td>\n",
       "      <td>0</td>\n",
       "      <td>0</td>\n",
       "      <td>4</td>\n",
       "      <td>False</td>\n",
       "      <td>Friday</td>\n",
       "      <td>0</td>\n",
       "    </tr>\n",
       "    <tr>\n",
       "      <th>1</th>\n",
       "      <td>2</td>\n",
       "      <td>5</td>\n",
       "      <td>2015-07-31</td>\n",
       "      <td>6064</td>\n",
       "      <td>625</td>\n",
       "      <td>1</td>\n",
       "      <td>1</td>\n",
       "      <td>0</td>\n",
       "      <td>1</td>\n",
       "      <td>0</td>\n",
       "      <td>0</td>\n",
       "      <td>4</td>\n",
       "      <td>False</td>\n",
       "      <td>Friday</td>\n",
       "      <td>0</td>\n",
       "    </tr>\n",
       "    <tr>\n",
       "      <th>2</th>\n",
       "      <td>3</td>\n",
       "      <td>5</td>\n",
       "      <td>2015-07-31</td>\n",
       "      <td>8314</td>\n",
       "      <td>821</td>\n",
       "      <td>1</td>\n",
       "      <td>1</td>\n",
       "      <td>0</td>\n",
       "      <td>1</td>\n",
       "      <td>0</td>\n",
       "      <td>0</td>\n",
       "      <td>4</td>\n",
       "      <td>False</td>\n",
       "      <td>Friday</td>\n",
       "      <td>0</td>\n",
       "    </tr>\n",
       "    <tr>\n",
       "      <th>3</th>\n",
       "      <td>4</td>\n",
       "      <td>5</td>\n",
       "      <td>2015-07-31</td>\n",
       "      <td>13995</td>\n",
       "      <td>1498</td>\n",
       "      <td>1</td>\n",
       "      <td>1</td>\n",
       "      <td>0</td>\n",
       "      <td>1</td>\n",
       "      <td>0</td>\n",
       "      <td>0</td>\n",
       "      <td>4</td>\n",
       "      <td>False</td>\n",
       "      <td>Friday</td>\n",
       "      <td>0</td>\n",
       "    </tr>\n",
       "    <tr>\n",
       "      <th>4</th>\n",
       "      <td>5</td>\n",
       "      <td>5</td>\n",
       "      <td>2015-07-31</td>\n",
       "      <td>4822</td>\n",
       "      <td>559</td>\n",
       "      <td>1</td>\n",
       "      <td>1</td>\n",
       "      <td>0</td>\n",
       "      <td>1</td>\n",
       "      <td>0</td>\n",
       "      <td>0</td>\n",
       "      <td>4</td>\n",
       "      <td>False</td>\n",
       "      <td>Friday</td>\n",
       "      <td>0</td>\n",
       "    </tr>\n",
       "    <tr>\n",
       "      <th>...</th>\n",
       "      <td>...</td>\n",
       "      <td>...</td>\n",
       "      <td>...</td>\n",
       "      <td>...</td>\n",
       "      <td>...</td>\n",
       "      <td>...</td>\n",
       "      <td>...</td>\n",
       "      <td>...</td>\n",
       "      <td>...</td>\n",
       "      <td>...</td>\n",
       "      <td>...</td>\n",
       "      <td>...</td>\n",
       "      <td>...</td>\n",
       "      <td>...</td>\n",
       "      <td>...</td>\n",
       "    </tr>\n",
       "    <tr>\n",
       "      <th>1017204</th>\n",
       "      <td>1111</td>\n",
       "      <td>2</td>\n",
       "      <td>2013-01-01</td>\n",
       "      <td>0</td>\n",
       "      <td>0</td>\n",
       "      <td>0</td>\n",
       "      <td>0</td>\n",
       "      <td>a</td>\n",
       "      <td>1</td>\n",
       "      <td>0</td>\n",
       "      <td>0</td>\n",
       "      <td>1</td>\n",
       "      <td>False</td>\n",
       "      <td>Tuesday</td>\n",
       "      <td>0</td>\n",
       "    </tr>\n",
       "    <tr>\n",
       "      <th>1017205</th>\n",
       "      <td>1112</td>\n",
       "      <td>2</td>\n",
       "      <td>2013-01-01</td>\n",
       "      <td>0</td>\n",
       "      <td>0</td>\n",
       "      <td>0</td>\n",
       "      <td>0</td>\n",
       "      <td>a</td>\n",
       "      <td>1</td>\n",
       "      <td>0</td>\n",
       "      <td>0</td>\n",
       "      <td>1</td>\n",
       "      <td>False</td>\n",
       "      <td>Tuesday</td>\n",
       "      <td>0</td>\n",
       "    </tr>\n",
       "    <tr>\n",
       "      <th>1017206</th>\n",
       "      <td>1113</td>\n",
       "      <td>2</td>\n",
       "      <td>2013-01-01</td>\n",
       "      <td>0</td>\n",
       "      <td>0</td>\n",
       "      <td>0</td>\n",
       "      <td>0</td>\n",
       "      <td>a</td>\n",
       "      <td>1</td>\n",
       "      <td>0</td>\n",
       "      <td>0</td>\n",
       "      <td>1</td>\n",
       "      <td>False</td>\n",
       "      <td>Tuesday</td>\n",
       "      <td>0</td>\n",
       "    </tr>\n",
       "    <tr>\n",
       "      <th>1017207</th>\n",
       "      <td>1114</td>\n",
       "      <td>2</td>\n",
       "      <td>2013-01-01</td>\n",
       "      <td>0</td>\n",
       "      <td>0</td>\n",
       "      <td>0</td>\n",
       "      <td>0</td>\n",
       "      <td>a</td>\n",
       "      <td>1</td>\n",
       "      <td>0</td>\n",
       "      <td>0</td>\n",
       "      <td>1</td>\n",
       "      <td>False</td>\n",
       "      <td>Tuesday</td>\n",
       "      <td>0</td>\n",
       "    </tr>\n",
       "    <tr>\n",
       "      <th>1017208</th>\n",
       "      <td>1115</td>\n",
       "      <td>2</td>\n",
       "      <td>2013-01-01</td>\n",
       "      <td>0</td>\n",
       "      <td>0</td>\n",
       "      <td>0</td>\n",
       "      <td>0</td>\n",
       "      <td>a</td>\n",
       "      <td>1</td>\n",
       "      <td>0</td>\n",
       "      <td>0</td>\n",
       "      <td>1</td>\n",
       "      <td>False</td>\n",
       "      <td>Tuesday</td>\n",
       "      <td>0</td>\n",
       "    </tr>\n",
       "  </tbody>\n",
       "</table>\n",
       "<p>1017209 rows × 15 columns</p>\n",
       "</div>"
      ],
      "text/plain": [
       "         Store  DayOfWeek       Date  Sales  Customers  Open  Promo  \\\n",
       "0            1          5 2015-07-31   5263        555     1      1   \n",
       "1            2          5 2015-07-31   6064        625     1      1   \n",
       "2            3          5 2015-07-31   8314        821     1      1   \n",
       "3            4          5 2015-07-31  13995       1498     1      1   \n",
       "4            5          5 2015-07-31   4822        559     1      1   \n",
       "...        ...        ...        ...    ...        ...   ...    ...   \n",
       "1017204   1111          2 2013-01-01      0          0     0      0   \n",
       "1017205   1112          2 2013-01-01      0          0     0      0   \n",
       "1017206   1113          2 2013-01-01      0          0     0      0   \n",
       "1017207   1114          2 2013-01-01      0          0     0      0   \n",
       "1017208   1115          2 2013-01-01      0          0     0      0   \n",
       "\n",
       "        StateHoliday  SchoolHoliday  Hour  Store_Status  Day_of_Week  \\\n",
       "0                  0              1     0             0            4   \n",
       "1                  0              1     0             0            4   \n",
       "2                  0              1     0             0            4   \n",
       "3                  0              1     0             0            4   \n",
       "4                  0              1     0             0            4   \n",
       "...              ...            ...   ...           ...          ...   \n",
       "1017204            a              1     0             0            1   \n",
       "1017205            a              1     0             0            1   \n",
       "1017206            a              1     0             0            1   \n",
       "1017207            a              1     0             0            1   \n",
       "1017208            a              1     0             0            1   \n",
       "\n",
       "         Store_Open  Weekday  Is_Weekend  \n",
       "0             False   Friday           0  \n",
       "1             False   Friday           0  \n",
       "2             False   Friday           0  \n",
       "3             False   Friday           0  \n",
       "4             False   Friday           0  \n",
       "...             ...      ...         ...  \n",
       "1017204       False  Tuesday           0  \n",
       "1017205       False  Tuesday           0  \n",
       "1017206       False  Tuesday           0  \n",
       "1017207       False  Tuesday           0  \n",
       "1017208       False  Tuesday           0  \n",
       "\n",
       "[1017209 rows x 15 columns]"
      ]
     },
     "execution_count": 92,
     "metadata": {},
     "output_type": "execute_result"
    }
   ],
   "source": [
    "df3"
   ]
  },
  {
   "cell_type": "code",
   "execution_count": 93,
   "id": "7f603114",
   "metadata": {},
   "outputs": [],
   "source": [
    "# Calculated the number of days to the nearest holiday\n",
    "holidays = [datetime(2024, 4, 1), datetime(2024, 5, 1)] \n",
    "df3['Days_To_Holiday'] = df3['Date'].apply(lambda x: min([(holiday - x).days for holiday in holidays if holiday > x]))\n"
   ]
  },
  {
   "cell_type": "code",
   "execution_count": 94,
   "id": "e7a1ac5b",
   "metadata": {},
   "outputs": [
    {
     "data": {
      "text/plain": [
       "0          3167\n",
       "1          3167\n",
       "2          3167\n",
       "3          3167\n",
       "4          3167\n",
       "           ... \n",
       "1017204    4108\n",
       "1017205    4108\n",
       "1017206    4108\n",
       "1017207    4108\n",
       "1017208    4108\n",
       "Name: Days_To_Holiday, Length: 1017209, dtype: int64"
      ]
     },
     "execution_count": 94,
     "metadata": {},
     "output_type": "execute_result"
    }
   ],
   "source": [
    "df3['Days_To_Holiday']"
   ]
  },
  {
   "cell_type": "code",
   "execution_count": 95,
   "id": "6f46f7cd",
   "metadata": {},
   "outputs": [],
   "source": [
    "# Beginning, mid, and end of the month\n",
    "df3['Month_Start'] = (df3['Date'] == df3['Date'].dt.floor('d')).astype(int)\n",
    "df3['Mid_Month'] = ((df3['Date'].dt.day > 10) & (df3['Date'].dt.day < 20)).astype(int)\n",
    "df3['Month_End'] = (df3['Date'] == df3['Date'].dt.floor('d') + pd.offsets.MonthEnd(0)).astype(int)"
   ]
  },
  {
   "cell_type": "code",
   "execution_count": 96,
   "id": "01d9691a",
   "metadata": {},
   "outputs": [
    {
     "data": {
      "text/plain": [
       "0          1\n",
       "1          1\n",
       "2          1\n",
       "3          1\n",
       "4          1\n",
       "          ..\n",
       "1017204    1\n",
       "1017205    1\n",
       "1017206    1\n",
       "1017207    1\n",
       "1017208    1\n",
       "Name: Month_Start, Length: 1017209, dtype: int32"
      ]
     },
     "execution_count": 96,
     "metadata": {},
     "output_type": "execute_result"
    }
   ],
   "source": [
    "df3['Month_Start']"
   ]
  },
  {
   "cell_type": "code",
   "execution_count": 97,
   "id": "2b6d594e",
   "metadata": {},
   "outputs": [
    {
     "data": {
      "text/plain": [
       "0          0\n",
       "1          0\n",
       "2          0\n",
       "3          0\n",
       "4          0\n",
       "          ..\n",
       "1017204    0\n",
       "1017205    0\n",
       "1017206    0\n",
       "1017207    0\n",
       "1017208    0\n",
       "Name: Mid_Month, Length: 1017209, dtype: int32"
      ]
     },
     "execution_count": 97,
     "metadata": {},
     "output_type": "execute_result"
    }
   ],
   "source": [
    "df3['Mid_Month']"
   ]
  },
  {
   "cell_type": "code",
   "execution_count": 98,
   "id": "4ed72472",
   "metadata": {},
   "outputs": [
    {
     "data": {
      "text/plain": [
       "0          1\n",
       "1          1\n",
       "2          1\n",
       "3          1\n",
       "4          1\n",
       "          ..\n",
       "1017204    0\n",
       "1017205    0\n",
       "1017206    0\n",
       "1017207    0\n",
       "1017208    0\n",
       "Name: Month_End, Length: 1017209, dtype: int32"
      ]
     },
     "execution_count": 98,
     "metadata": {},
     "output_type": "execute_result"
    }
   ],
   "source": [
    "df3['Month_End']"
   ]
  },
  {
   "cell_type": "code",
   "execution_count": 99,
   "id": "89d2178c",
   "metadata": {},
   "outputs": [
    {
     "name": "stdout",
     "output_type": "stream",
     "text": [
      "         Store  DayOfWeek       Date  Sales  Customers  Open  Promo  \\\n",
      "0            1          5 2015-07-31   5263        555     1      1   \n",
      "1            2          5 2015-07-31   6064        625     1      1   \n",
      "2            3          5 2015-07-31   8314        821     1      1   \n",
      "3            4          5 2015-07-31  13995       1498     1      1   \n",
      "4            5          5 2015-07-31   4822        559     1      1   \n",
      "...        ...        ...        ...    ...        ...   ...    ...   \n",
      "1017204   1111          2 2013-01-01      0          0     0      0   \n",
      "1017205   1112          2 2013-01-01      0          0     0      0   \n",
      "1017206   1113          2 2013-01-01      0          0     0      0   \n",
      "1017207   1114          2 2013-01-01      0          0     0      0   \n",
      "1017208   1115          2 2013-01-01      0          0     0      0   \n",
      "\n",
      "        StateHoliday  SchoolHoliday  Hour  Store_Status  Day_of_Week  \\\n",
      "0                  0              1     0             0            4   \n",
      "1                  0              1     0             0            4   \n",
      "2                  0              1     0             0            4   \n",
      "3                  0              1     0             0            4   \n",
      "4                  0              1     0             0            4   \n",
      "...              ...            ...   ...           ...          ...   \n",
      "1017204            a              1     0             0            1   \n",
      "1017205            a              1     0             0            1   \n",
      "1017206            a              1     0             0            1   \n",
      "1017207            a              1     0             0            1   \n",
      "1017208            a              1     0             0            1   \n",
      "\n",
      "         Store_Open  Weekday  Is_Weekend  Days_To_Holiday  Month_Start  \\\n",
      "0             False   Friday           0             3167            1   \n",
      "1             False   Friday           0             3167            1   \n",
      "2             False   Friday           0             3167            1   \n",
      "3             False   Friday           0             3167            1   \n",
      "4             False   Friday           0             3167            1   \n",
      "...             ...      ...         ...              ...          ...   \n",
      "1017204       False  Tuesday           0             4108            1   \n",
      "1017205       False  Tuesday           0             4108            1   \n",
      "1017206       False  Tuesday           0             4108            1   \n",
      "1017207       False  Tuesday           0             4108            1   \n",
      "1017208       False  Tuesday           0             4108            1   \n",
      "\n",
      "         Mid_Month  Month_End  \n",
      "0                0          1  \n",
      "1                0          1  \n",
      "2                0          1  \n",
      "3                0          1  \n",
      "4                0          1  \n",
      "...            ...        ...  \n",
      "1017204          0          0  \n",
      "1017205          0          0  \n",
      "1017206          0          0  \n",
      "1017207          0          0  \n",
      "1017208          0          0  \n",
      "\n",
      "[1017209 rows x 19 columns]\n"
     ]
    }
   ],
   "source": [
    "print(df3)"
   ]
  },
  {
   "cell_type": "code",
   "execution_count": 100,
   "id": "a178bca6",
   "metadata": {},
   "outputs": [],
   "source": [
    "from sklearn.preprocessing import StandardScaler"
   ]
  },
  {
   "cell_type": "code",
   "execution_count": 101,
   "id": "e92db7f9",
   "metadata": {},
   "outputs": [],
   "source": [
    "scaler = StandardScaler()"
   ]
  },
  {
   "cell_type": "code",
   "execution_count": 102,
   "id": "cf7e84b6",
   "metadata": {},
   "outputs": [],
   "source": [
    "numerical_columns = ['Customers', 'Sales'] "
   ]
  },
  {
   "cell_type": "code",
   "execution_count": 103,
   "id": "68a066f1",
   "metadata": {},
   "outputs": [
    {
     "data": {
      "text/plain": [
       "['Customers', 'Sales']"
      ]
     },
     "execution_count": 103,
     "metadata": {},
     "output_type": "execute_result"
    }
   ],
   "source": [
    "numerical_columns"
   ]
  },
  {
   "cell_type": "code",
   "execution_count": 104,
   "id": "1ac23fde",
   "metadata": {},
   "outputs": [],
   "source": [
    "df3[numerical_columns] = scaler.fit_transform(df3[numerical_columns])"
   ]
  },
  {
   "cell_type": "code",
   "execution_count": 105,
   "id": "b77851b8",
   "metadata": {},
   "outputs": [
    {
     "data": {
      "text/html": [
       "<div>\n",
       "<style scoped>\n",
       "    .dataframe tbody tr th:only-of-type {\n",
       "        vertical-align: middle;\n",
       "    }\n",
       "\n",
       "    .dataframe tbody tr th {\n",
       "        vertical-align: top;\n",
       "    }\n",
       "\n",
       "    .dataframe thead th {\n",
       "        text-align: right;\n",
       "    }\n",
       "</style>\n",
       "<table border=\"1\" class=\"dataframe\">\n",
       "  <thead>\n",
       "    <tr style=\"text-align: right;\">\n",
       "      <th></th>\n",
       "      <th>Customers</th>\n",
       "      <th>Sales</th>\n",
       "    </tr>\n",
       "  </thead>\n",
       "  <tbody>\n",
       "    <tr>\n",
       "      <th>0</th>\n",
       "      <td>-0.168269</td>\n",
       "      <td>-0.132683</td>\n",
       "    </tr>\n",
       "    <tr>\n",
       "      <th>1</th>\n",
       "      <td>-0.017540</td>\n",
       "      <td>0.075373</td>\n",
       "    </tr>\n",
       "    <tr>\n",
       "      <th>2</th>\n",
       "      <td>0.404499</td>\n",
       "      <td>0.659800</td>\n",
       "    </tr>\n",
       "    <tr>\n",
       "      <th>3</th>\n",
       "      <td>1.862258</td>\n",
       "      <td>2.135414</td>\n",
       "    </tr>\n",
       "    <tr>\n",
       "      <th>4</th>\n",
       "      <td>-0.159656</td>\n",
       "      <td>-0.247231</td>\n",
       "    </tr>\n",
       "    <tr>\n",
       "      <th>...</th>\n",
       "      <td>...</td>\n",
       "      <td>...</td>\n",
       "    </tr>\n",
       "    <tr>\n",
       "      <th>1017204</th>\n",
       "      <td>-1.363330</td>\n",
       "      <td>-1.499723</td>\n",
       "    </tr>\n",
       "    <tr>\n",
       "      <th>1017205</th>\n",
       "      <td>-1.363330</td>\n",
       "      <td>-1.499723</td>\n",
       "    </tr>\n",
       "    <tr>\n",
       "      <th>1017206</th>\n",
       "      <td>-1.363330</td>\n",
       "      <td>-1.499723</td>\n",
       "    </tr>\n",
       "    <tr>\n",
       "      <th>1017207</th>\n",
       "      <td>-1.363330</td>\n",
       "      <td>-1.499723</td>\n",
       "    </tr>\n",
       "    <tr>\n",
       "      <th>1017208</th>\n",
       "      <td>-1.363330</td>\n",
       "      <td>-1.499723</td>\n",
       "    </tr>\n",
       "  </tbody>\n",
       "</table>\n",
       "<p>1017209 rows × 2 columns</p>\n",
       "</div>"
      ],
      "text/plain": [
       "         Customers     Sales\n",
       "0        -0.168269 -0.132683\n",
       "1        -0.017540  0.075373\n",
       "2         0.404499  0.659800\n",
       "3         1.862258  2.135414\n",
       "4        -0.159656 -0.247231\n",
       "...            ...       ...\n",
       "1017204  -1.363330 -1.499723\n",
       "1017205  -1.363330 -1.499723\n",
       "1017206  -1.363330 -1.499723\n",
       "1017207  -1.363330 -1.499723\n",
       "1017208  -1.363330 -1.499723\n",
       "\n",
       "[1017209 rows x 2 columns]"
      ]
     },
     "execution_count": 105,
     "metadata": {},
     "output_type": "execute_result"
    }
   ],
   "source": [
    "df3[numerical_columns]"
   ]
  },
  {
   "cell_type": "code",
   "execution_count": 106,
   "id": "4733596c",
   "metadata": {},
   "outputs": [
    {
     "name": "stdout",
     "output_type": "stream",
     "text": [
      "         Store  DayOfWeek       Date     Sales  Customers  Open  Promo  \\\n",
      "0            1          5 2015-07-31 -0.132683  -0.168269     1      1   \n",
      "1            2          5 2015-07-31  0.075373  -0.017540     1      1   \n",
      "2            3          5 2015-07-31  0.659800   0.404499     1      1   \n",
      "3            4          5 2015-07-31  2.135414   1.862258     1      1   \n",
      "4            5          5 2015-07-31 -0.247231  -0.159656     1      1   \n",
      "...        ...        ...        ...       ...        ...   ...    ...   \n",
      "1017204   1111          2 2013-01-01 -1.499723  -1.363330     0      0   \n",
      "1017205   1112          2 2013-01-01 -1.499723  -1.363330     0      0   \n",
      "1017206   1113          2 2013-01-01 -1.499723  -1.363330     0      0   \n",
      "1017207   1114          2 2013-01-01 -1.499723  -1.363330     0      0   \n",
      "1017208   1115          2 2013-01-01 -1.499723  -1.363330     0      0   \n",
      "\n",
      "        StateHoliday  SchoolHoliday  Hour  Store_Status  Day_of_Week  \\\n",
      "0                  0              1     0             0            4   \n",
      "1                  0              1     0             0            4   \n",
      "2                  0              1     0             0            4   \n",
      "3                  0              1     0             0            4   \n",
      "4                  0              1     0             0            4   \n",
      "...              ...            ...   ...           ...          ...   \n",
      "1017204            a              1     0             0            1   \n",
      "1017205            a              1     0             0            1   \n",
      "1017206            a              1     0             0            1   \n",
      "1017207            a              1     0             0            1   \n",
      "1017208            a              1     0             0            1   \n",
      "\n",
      "         Store_Open  Weekday  Is_Weekend  Days_To_Holiday  Month_Start  \\\n",
      "0             False   Friday           0             3167            1   \n",
      "1             False   Friday           0             3167            1   \n",
      "2             False   Friday           0             3167            1   \n",
      "3             False   Friday           0             3167            1   \n",
      "4             False   Friday           0             3167            1   \n",
      "...             ...      ...         ...              ...          ...   \n",
      "1017204       False  Tuesday           0             4108            1   \n",
      "1017205       False  Tuesday           0             4108            1   \n",
      "1017206       False  Tuesday           0             4108            1   \n",
      "1017207       False  Tuesday           0             4108            1   \n",
      "1017208       False  Tuesday           0             4108            1   \n",
      "\n",
      "         Mid_Month  Month_End  \n",
      "0                0          1  \n",
      "1                0          1  \n",
      "2                0          1  \n",
      "3                0          1  \n",
      "4                0          1  \n",
      "...            ...        ...  \n",
      "1017204          0          0  \n",
      "1017205          0          0  \n",
      "1017206          0          0  \n",
      "1017207          0          0  \n",
      "1017208          0          0  \n",
      "\n",
      "[1017209 rows x 19 columns]\n"
     ]
    }
   ],
   "source": [
    "print(df3)"
   ]
  },
  {
   "cell_type": "code",
   "execution_count": 107,
   "id": "2a137577",
   "metadata": {},
   "outputs": [],
   "source": [
    "from sklearn.model_selection import train_test_split\n",
    "from sklearn.pipeline import Pipeline\n",
    "from sklearn.preprocessing import StandardScaler\n",
    "from sklearn.ensemble import RandomForestRegressor\n",
    "from sklearn.metrics import mean_squared_error"
   ]
  },
  {
   "cell_type": "code",
   "execution_count": 108,
   "id": "abdc1299",
   "metadata": {},
   "outputs": [],
   "source": [
    "# Task 2.2 Building models with sklearn pipelines\n",
    "data = {\n",
    "    'Year': [-1.0, 0.0, 1.0],\n",
    "    'Month': [-1.0, 0.0, 1.0],\n",
    "    'Day': [-1.0, 0.0, 1.0],\n",
    "    'Hour': [-1.0, 0.0, 1.0],\n",
    "    'Minute': [-1.0, 0.0, 1.0],\n",
    "    'Value': [10, 20, 30]\n",
    "    }\n",
    "df4 = pd.DataFrame(data)"
   ]
  },
  {
   "cell_type": "code",
   "execution_count": 109,
   "id": "be38a666",
   "metadata": {},
   "outputs": [
    {
     "data": {
      "text/html": [
       "<div>\n",
       "<style scoped>\n",
       "    .dataframe tbody tr th:only-of-type {\n",
       "        vertical-align: middle;\n",
       "    }\n",
       "\n",
       "    .dataframe tbody tr th {\n",
       "        vertical-align: top;\n",
       "    }\n",
       "\n",
       "    .dataframe thead th {\n",
       "        text-align: right;\n",
       "    }\n",
       "</style>\n",
       "<table border=\"1\" class=\"dataframe\">\n",
       "  <thead>\n",
       "    <tr style=\"text-align: right;\">\n",
       "      <th></th>\n",
       "      <th>Year</th>\n",
       "      <th>Month</th>\n",
       "      <th>Day</th>\n",
       "      <th>Hour</th>\n",
       "      <th>Minute</th>\n",
       "      <th>Value</th>\n",
       "    </tr>\n",
       "  </thead>\n",
       "  <tbody>\n",
       "    <tr>\n",
       "      <th>0</th>\n",
       "      <td>-1.0</td>\n",
       "      <td>-1.0</td>\n",
       "      <td>-1.0</td>\n",
       "      <td>-1.0</td>\n",
       "      <td>-1.0</td>\n",
       "      <td>10</td>\n",
       "    </tr>\n",
       "    <tr>\n",
       "      <th>1</th>\n",
       "      <td>0.0</td>\n",
       "      <td>0.0</td>\n",
       "      <td>0.0</td>\n",
       "      <td>0.0</td>\n",
       "      <td>0.0</td>\n",
       "      <td>20</td>\n",
       "    </tr>\n",
       "    <tr>\n",
       "      <th>2</th>\n",
       "      <td>1.0</td>\n",
       "      <td>1.0</td>\n",
       "      <td>1.0</td>\n",
       "      <td>1.0</td>\n",
       "      <td>1.0</td>\n",
       "      <td>30</td>\n",
       "    </tr>\n",
       "  </tbody>\n",
       "</table>\n",
       "</div>"
      ],
      "text/plain": [
       "   Year  Month  Day  Hour  Minute  Value\n",
       "0  -1.0   -1.0 -1.0  -1.0    -1.0     10\n",
       "1   0.0    0.0  0.0   0.0     0.0     20\n",
       "2   1.0    1.0  1.0   1.0     1.0     30"
      ]
     },
     "execution_count": 109,
     "metadata": {},
     "output_type": "execute_result"
    }
   ],
   "source": [
    "df4"
   ]
  },
  {
   "cell_type": "code",
   "execution_count": 110,
   "id": "a8c4561d",
   "metadata": {},
   "outputs": [],
   "source": [
    "X = df4.drop('Value', axis=1)\n",
    "y = df4['Value']"
   ]
  },
  {
   "cell_type": "code",
   "execution_count": 111,
   "id": "09d65dd8",
   "metadata": {},
   "outputs": [],
   "source": [
    "X_train, X_test, y_train, y_test = train_test_split(X, y, test_size=0.2, random_state=42)"
   ]
  },
  {
   "cell_type": "code",
   "execution_count": 112,
   "id": "419e67e4",
   "metadata": {},
   "outputs": [],
   "source": [
    "random_forest_regressor = RandomForestRegressor(random_state=42)"
   ]
  },
  {
   "cell_type": "code",
   "execution_count": 113,
   "id": "b79eb68b",
   "metadata": {},
   "outputs": [],
   "source": [
    "pipeline = Pipeline([\n",
    "    ('scaler', StandardScaler()),\n",
    "    ('RandomForest', random_forest_regressor)\n",
    "])"
   ]
  },
  {
   "cell_type": "code",
   "execution_count": 114,
   "id": "678cb49c",
   "metadata": {},
   "outputs": [
    {
     "data": {
      "text/html": [
       "<style>#sk-container-id-3 {color: black;background-color: white;}#sk-container-id-3 pre{padding: 0;}#sk-container-id-3 div.sk-toggleable {background-color: white;}#sk-container-id-3 label.sk-toggleable__label {cursor: pointer;display: block;width: 100%;margin-bottom: 0;padding: 0.3em;box-sizing: border-box;text-align: center;}#sk-container-id-3 label.sk-toggleable__label-arrow:before {content: \"▸\";float: left;margin-right: 0.25em;color: #696969;}#sk-container-id-3 label.sk-toggleable__label-arrow:hover:before {color: black;}#sk-container-id-3 div.sk-estimator:hover label.sk-toggleable__label-arrow:before {color: black;}#sk-container-id-3 div.sk-toggleable__content {max-height: 0;max-width: 0;overflow: hidden;text-align: left;background-color: #f0f8ff;}#sk-container-id-3 div.sk-toggleable__content pre {margin: 0.2em;color: black;border-radius: 0.25em;background-color: #f0f8ff;}#sk-container-id-3 input.sk-toggleable__control:checked~div.sk-toggleable__content {max-height: 200px;max-width: 100%;overflow: auto;}#sk-container-id-3 input.sk-toggleable__control:checked~label.sk-toggleable__label-arrow:before {content: \"▾\";}#sk-container-id-3 div.sk-estimator input.sk-toggleable__control:checked~label.sk-toggleable__label {background-color: #d4ebff;}#sk-container-id-3 div.sk-label input.sk-toggleable__control:checked~label.sk-toggleable__label {background-color: #d4ebff;}#sk-container-id-3 input.sk-hidden--visually {border: 0;clip: rect(1px 1px 1px 1px);clip: rect(1px, 1px, 1px, 1px);height: 1px;margin: -1px;overflow: hidden;padding: 0;position: absolute;width: 1px;}#sk-container-id-3 div.sk-estimator {font-family: monospace;background-color: #f0f8ff;border: 1px dotted black;border-radius: 0.25em;box-sizing: border-box;margin-bottom: 0.5em;}#sk-container-id-3 div.sk-estimator:hover {background-color: #d4ebff;}#sk-container-id-3 div.sk-parallel-item::after {content: \"\";width: 100%;border-bottom: 1px solid gray;flex-grow: 1;}#sk-container-id-3 div.sk-label:hover label.sk-toggleable__label {background-color: #d4ebff;}#sk-container-id-3 div.sk-serial::before {content: \"\";position: absolute;border-left: 1px solid gray;box-sizing: border-box;top: 0;bottom: 0;left: 50%;z-index: 0;}#sk-container-id-3 div.sk-serial {display: flex;flex-direction: column;align-items: center;background-color: white;padding-right: 0.2em;padding-left: 0.2em;position: relative;}#sk-container-id-3 div.sk-item {position: relative;z-index: 1;}#sk-container-id-3 div.sk-parallel {display: flex;align-items: stretch;justify-content: center;background-color: white;position: relative;}#sk-container-id-3 div.sk-item::before, #sk-container-id-3 div.sk-parallel-item::before {content: \"\";position: absolute;border-left: 1px solid gray;box-sizing: border-box;top: 0;bottom: 0;left: 50%;z-index: -1;}#sk-container-id-3 div.sk-parallel-item {display: flex;flex-direction: column;z-index: 1;position: relative;background-color: white;}#sk-container-id-3 div.sk-parallel-item:first-child::after {align-self: flex-end;width: 50%;}#sk-container-id-3 div.sk-parallel-item:last-child::after {align-self: flex-start;width: 50%;}#sk-container-id-3 div.sk-parallel-item:only-child::after {width: 0;}#sk-container-id-3 div.sk-dashed-wrapped {border: 1px dashed gray;margin: 0 0.4em 0.5em 0.4em;box-sizing: border-box;padding-bottom: 0.4em;background-color: white;}#sk-container-id-3 div.sk-label label {font-family: monospace;font-weight: bold;display: inline-block;line-height: 1.2em;}#sk-container-id-3 div.sk-label-container {text-align: center;}#sk-container-id-3 div.sk-container {/* jupyter's `normalize.less` sets `[hidden] { display: none; }` but bootstrap.min.css set `[hidden] { display: none !important; }` so we also need the `!important` here to be able to override the default hidden behavior on the sphinx rendered scikit-learn.org. See: https://github.com/scikit-learn/scikit-learn/issues/21755 */display: inline-block !important;position: relative;}#sk-container-id-3 div.sk-text-repr-fallback {display: none;}</style><div id=\"sk-container-id-3\" class=\"sk-top-container\"><div class=\"sk-text-repr-fallback\"><pre>Pipeline(steps=[(&#x27;scaler&#x27;, StandardScaler()),\n",
       "                (&#x27;RandomForest&#x27;, RandomForestRegressor(random_state=42))])</pre><b>In a Jupyter environment, please rerun this cell to show the HTML representation or trust the notebook. <br />On GitHub, the HTML representation is unable to render, please try loading this page with nbviewer.org.</b></div><div class=\"sk-container\" hidden><div class=\"sk-item sk-dashed-wrapped\"><div class=\"sk-label-container\"><div class=\"sk-label sk-toggleable\"><input class=\"sk-toggleable__control sk-hidden--visually\" id=\"sk-estimator-id-3\" type=\"checkbox\" ><label for=\"sk-estimator-id-3\" class=\"sk-toggleable__label sk-toggleable__label-arrow\">Pipeline</label><div class=\"sk-toggleable__content\"><pre>Pipeline(steps=[(&#x27;scaler&#x27;, StandardScaler()),\n",
       "                (&#x27;RandomForest&#x27;, RandomForestRegressor(random_state=42))])</pre></div></div></div><div class=\"sk-serial\"><div class=\"sk-item\"><div class=\"sk-estimator sk-toggleable\"><input class=\"sk-toggleable__control sk-hidden--visually\" id=\"sk-estimator-id-4\" type=\"checkbox\" ><label for=\"sk-estimator-id-4\" class=\"sk-toggleable__label sk-toggleable__label-arrow\">StandardScaler</label><div class=\"sk-toggleable__content\"><pre>StandardScaler()</pre></div></div></div><div class=\"sk-item\"><div class=\"sk-estimator sk-toggleable\"><input class=\"sk-toggleable__control sk-hidden--visually\" id=\"sk-estimator-id-5\" type=\"checkbox\" ><label for=\"sk-estimator-id-5\" class=\"sk-toggleable__label sk-toggleable__label-arrow\">RandomForestRegressor</label><div class=\"sk-toggleable__content\"><pre>RandomForestRegressor(random_state=42)</pre></div></div></div></div></div></div></div>"
      ],
      "text/plain": [
       "Pipeline(steps=[('scaler', StandardScaler()),\n",
       "                ('RandomForest', RandomForestRegressor(random_state=42))])"
      ]
     },
     "execution_count": 114,
     "metadata": {},
     "output_type": "execute_result"
    }
   ],
   "source": [
    "pipeline.fit(X_train, y_train)"
   ]
  },
  {
   "cell_type": "code",
   "execution_count": 115,
   "id": "5a361ce2",
   "metadata": {},
   "outputs": [],
   "source": [
    "y_pred = pipeline.predict(X_test)"
   ]
  },
  {
   "cell_type": "code",
   "execution_count": 116,
   "id": "98b353fa",
   "metadata": {},
   "outputs": [
    {
     "name": "stdout",
     "output_type": "stream",
     "text": [
      "RandomForestRegressor - Mean Squared Error: 148.83999999999997\n"
     ]
    }
   ],
   "source": [
    "mse = mean_squared_error(y_test, y_pred)\n",
    "print(f\"RandomForestRegressor - Mean Squared Error: {mse}\")"
   ]
  },
  {
   "cell_type": "code",
   "execution_count": 117,
   "id": "0c30ed7d",
   "metadata": {},
   "outputs": [],
   "source": [
    "from sklearn.metrics import make_scorer, mean_squared_error\n",
    "from scipy.optimize import minimize\n",
    "import numpy as np"
   ]
  },
  {
   "cell_type": "code",
   "execution_count": 118,
   "id": "7e581ed4",
   "metadata": {},
   "outputs": [],
   "source": [
    "def huber_loss(y_true, y_pred, delta=1.0):\n",
    "    residual = np.abs(y_true - y_pred)\n",
    "    condition = residual < delta\n",
    "    squared_loss = 0.5 * (residual ** 2)\n",
    "    linear_loss = delta * (residual - 0.5 * delta)\n",
    "    return np.where(condition, squared_loss, linear_loss)"
   ]
  },
  {
   "cell_type": "code",
   "execution_count": 119,
   "id": "d282191d",
   "metadata": {},
   "outputs": [],
   "source": [
    "huber_scorer = make_scorer(huber_loss, greater_is_better=False)"
   ]
  },
  {
   "cell_type": "code",
   "execution_count": 120,
   "id": "4158ed73",
   "metadata": {},
   "outputs": [],
   "source": [
    "random_forest_regressor = RandomForestRegressor(random_state=42)"
   ]
  },
  {
   "cell_type": "code",
   "execution_count": 121,
   "id": "7886fbec",
   "metadata": {},
   "outputs": [],
   "source": [
    "pipeline = Pipeline([\n",
    "    ('scaler', StandardScaler()), \n",
    "    ('RandomForest', random_forest_regressor) \n",
    "])"
   ]
  },
  {
   "cell_type": "code",
   "execution_count": 122,
   "id": "2782cb21",
   "metadata": {},
   "outputs": [
    {
     "data": {
      "text/html": [
       "<style>#sk-container-id-4 {color: black;background-color: white;}#sk-container-id-4 pre{padding: 0;}#sk-container-id-4 div.sk-toggleable {background-color: white;}#sk-container-id-4 label.sk-toggleable__label {cursor: pointer;display: block;width: 100%;margin-bottom: 0;padding: 0.3em;box-sizing: border-box;text-align: center;}#sk-container-id-4 label.sk-toggleable__label-arrow:before {content: \"▸\";float: left;margin-right: 0.25em;color: #696969;}#sk-container-id-4 label.sk-toggleable__label-arrow:hover:before {color: black;}#sk-container-id-4 div.sk-estimator:hover label.sk-toggleable__label-arrow:before {color: black;}#sk-container-id-4 div.sk-toggleable__content {max-height: 0;max-width: 0;overflow: hidden;text-align: left;background-color: #f0f8ff;}#sk-container-id-4 div.sk-toggleable__content pre {margin: 0.2em;color: black;border-radius: 0.25em;background-color: #f0f8ff;}#sk-container-id-4 input.sk-toggleable__control:checked~div.sk-toggleable__content {max-height: 200px;max-width: 100%;overflow: auto;}#sk-container-id-4 input.sk-toggleable__control:checked~label.sk-toggleable__label-arrow:before {content: \"▾\";}#sk-container-id-4 div.sk-estimator input.sk-toggleable__control:checked~label.sk-toggleable__label {background-color: #d4ebff;}#sk-container-id-4 div.sk-label input.sk-toggleable__control:checked~label.sk-toggleable__label {background-color: #d4ebff;}#sk-container-id-4 input.sk-hidden--visually {border: 0;clip: rect(1px 1px 1px 1px);clip: rect(1px, 1px, 1px, 1px);height: 1px;margin: -1px;overflow: hidden;padding: 0;position: absolute;width: 1px;}#sk-container-id-4 div.sk-estimator {font-family: monospace;background-color: #f0f8ff;border: 1px dotted black;border-radius: 0.25em;box-sizing: border-box;margin-bottom: 0.5em;}#sk-container-id-4 div.sk-estimator:hover {background-color: #d4ebff;}#sk-container-id-4 div.sk-parallel-item::after {content: \"\";width: 100%;border-bottom: 1px solid gray;flex-grow: 1;}#sk-container-id-4 div.sk-label:hover label.sk-toggleable__label {background-color: #d4ebff;}#sk-container-id-4 div.sk-serial::before {content: \"\";position: absolute;border-left: 1px solid gray;box-sizing: border-box;top: 0;bottom: 0;left: 50%;z-index: 0;}#sk-container-id-4 div.sk-serial {display: flex;flex-direction: column;align-items: center;background-color: white;padding-right: 0.2em;padding-left: 0.2em;position: relative;}#sk-container-id-4 div.sk-item {position: relative;z-index: 1;}#sk-container-id-4 div.sk-parallel {display: flex;align-items: stretch;justify-content: center;background-color: white;position: relative;}#sk-container-id-4 div.sk-item::before, #sk-container-id-4 div.sk-parallel-item::before {content: \"\";position: absolute;border-left: 1px solid gray;box-sizing: border-box;top: 0;bottom: 0;left: 50%;z-index: -1;}#sk-container-id-4 div.sk-parallel-item {display: flex;flex-direction: column;z-index: 1;position: relative;background-color: white;}#sk-container-id-4 div.sk-parallel-item:first-child::after {align-self: flex-end;width: 50%;}#sk-container-id-4 div.sk-parallel-item:last-child::after {align-self: flex-start;width: 50%;}#sk-container-id-4 div.sk-parallel-item:only-child::after {width: 0;}#sk-container-id-4 div.sk-dashed-wrapped {border: 1px dashed gray;margin: 0 0.4em 0.5em 0.4em;box-sizing: border-box;padding-bottom: 0.4em;background-color: white;}#sk-container-id-4 div.sk-label label {font-family: monospace;font-weight: bold;display: inline-block;line-height: 1.2em;}#sk-container-id-4 div.sk-label-container {text-align: center;}#sk-container-id-4 div.sk-container {/* jupyter's `normalize.less` sets `[hidden] { display: none; }` but bootstrap.min.css set `[hidden] { display: none !important; }` so we also need the `!important` here to be able to override the default hidden behavior on the sphinx rendered scikit-learn.org. See: https://github.com/scikit-learn/scikit-learn/issues/21755 */display: inline-block !important;position: relative;}#sk-container-id-4 div.sk-text-repr-fallback {display: none;}</style><div id=\"sk-container-id-4\" class=\"sk-top-container\"><div class=\"sk-text-repr-fallback\"><pre>Pipeline(steps=[(&#x27;scaler&#x27;, StandardScaler()),\n",
       "                (&#x27;RandomForest&#x27;, RandomForestRegressor(random_state=42))])</pre><b>In a Jupyter environment, please rerun this cell to show the HTML representation or trust the notebook. <br />On GitHub, the HTML representation is unable to render, please try loading this page with nbviewer.org.</b></div><div class=\"sk-container\" hidden><div class=\"sk-item sk-dashed-wrapped\"><div class=\"sk-label-container\"><div class=\"sk-label sk-toggleable\"><input class=\"sk-toggleable__control sk-hidden--visually\" id=\"sk-estimator-id-6\" type=\"checkbox\" ><label for=\"sk-estimator-id-6\" class=\"sk-toggleable__label sk-toggleable__label-arrow\">Pipeline</label><div class=\"sk-toggleable__content\"><pre>Pipeline(steps=[(&#x27;scaler&#x27;, StandardScaler()),\n",
       "                (&#x27;RandomForest&#x27;, RandomForestRegressor(random_state=42))])</pre></div></div></div><div class=\"sk-serial\"><div class=\"sk-item\"><div class=\"sk-estimator sk-toggleable\"><input class=\"sk-toggleable__control sk-hidden--visually\" id=\"sk-estimator-id-7\" type=\"checkbox\" ><label for=\"sk-estimator-id-7\" class=\"sk-toggleable__label sk-toggleable__label-arrow\">StandardScaler</label><div class=\"sk-toggleable__content\"><pre>StandardScaler()</pre></div></div></div><div class=\"sk-item\"><div class=\"sk-estimator sk-toggleable\"><input class=\"sk-toggleable__control sk-hidden--visually\" id=\"sk-estimator-id-8\" type=\"checkbox\" ><label for=\"sk-estimator-id-8\" class=\"sk-toggleable__label sk-toggleable__label-arrow\">RandomForestRegressor</label><div class=\"sk-toggleable__content\"><pre>RandomForestRegressor(random_state=42)</pre></div></div></div></div></div></div></div>"
      ],
      "text/plain": [
       "Pipeline(steps=[('scaler', StandardScaler()),\n",
       "                ('RandomForest', RandomForestRegressor(random_state=42))])"
      ]
     },
     "execution_count": 122,
     "metadata": {},
     "output_type": "execute_result"
    }
   ],
   "source": [
    "pipeline.fit(X_train, y_train)"
   ]
  },
  {
   "cell_type": "code",
   "execution_count": 123,
   "id": "134df564",
   "metadata": {},
   "outputs": [],
   "source": [
    "y_pred = pipeline.predict(X_test)"
   ]
  },
  {
   "cell_type": "code",
   "execution_count": 124,
   "id": "3193a153",
   "metadata": {},
   "outputs": [],
   "source": [
    "huber_loss_value = huber_loss(y_test.values, y_pred)"
   ]
  },
  {
   "cell_type": "code",
   "execution_count": 125,
   "id": "1917f2d2",
   "metadata": {},
   "outputs": [
    {
     "name": "stdout",
     "output_type": "stream",
     "text": [
      "Huber Loss: 11.7\n"
     ]
    }
   ],
   "source": [
    "print(f\"Huber Loss: {huber_loss_value.mean()}\")"
   ]
  },
  {
   "cell_type": "code",
   "execution_count": 126,
   "id": "e837f364",
   "metadata": {},
   "outputs": [],
   "source": [
    "feature_importance = pipeline.named_steps['RandomForest'].feature_importances_\n",
    "feature_names = X.columns"
   ]
  },
  {
   "cell_type": "code",
   "execution_count": 127,
   "id": "f6886e96",
   "metadata": {},
   "outputs": [
    {
     "data": {
      "image/png": "[encoded data removed]",
      "text/plain": [
       "<Figure size 1000x600 with 1 Axes>"
      ]
     },
     "metadata": {},
     "output_type": "display_data"
    }
   ],
   "source": [
    "plt.figure(figsize=(10, 6))\n",
    "plt.bar(feature_names, feature_importance)\n",
    "plt.xlabel('Features')\n",
    "plt.ylabel('Importance')\n",
    "plt.title('Feature Importance')\n",
    "plt.show()"
   ]
  },
  {
   "cell_type": "code",
   "execution_count": 128,
   "id": "0575b962",
   "metadata": {},
   "outputs": [],
   "source": [
    "def bootstrap_confidence_interval(y_true, y_pred, n_bootstrap=1000, alpha=0.05):\n",
    "    mse_scores = []\n",
    "    for _ in range(n_bootstrap):\n",
    "        indices = np.random.randint(0, len(y_true), len(y_true))\n",
    "        mse = mean_squared_error(y_true.iloc[indices], y_pred[indices])\n",
    "        mse_scores.append(mse)"
   ]
  },
  {
   "cell_type": "code",
   "execution_count": 129,
   "id": "a07e84d0",
   "metadata": {},
   "outputs": [],
   "source": [
    "import pickle\n",
    "from datetime import datetime"
   ]
  },
  {
   "cell_type": "code",
   "execution_count": 130,
   "id": "7413b714",
   "metadata": {},
   "outputs": [],
   "source": [
    "timestamp = datetime.now().strftime('%d-%m-%Y-%H-%M-%S-%f')[:-3]"
   ]
  },
  {
   "cell_type": "code",
   "execution_count": 131,
   "id": "90772b20",
   "metadata": {},
   "outputs": [],
   "source": [
    "model_filename = f\"model_{timestamp}.pkl\"\n",
    "with open(model_filename, 'wb') as file:\n",
    "    pickle.dump(pipeline, file)"
   ]
  },
  {
   "cell_type": "code",
   "execution_count": 132,
   "id": "7249076c",
   "metadata": {},
   "outputs": [
    {
     "name": "stdout",
     "output_type": "stream",
     "text": [
      "Trained model has been serialized and saved as model_11-04-2024-20-07-48-205.pkl\n"
     ]
    }
   ],
   "source": [
    "print(f\"Trained model has been serialized and saved as {model_filename}\")"
   ]
  },
  {
   "cell_type": "code",
   "execution_count": 133,
   "id": "1ebcf0b5",
   "metadata": {},
   "outputs": [],
   "source": [
    "df3 = {\n",
    "    'Date': pd.date_range(start='2020-01-01', periods=100, freq='D'),\n",
    "    'Sales': np.random.randint(100, 1000, size=100)\n",
    "}\n",
    "df = pd.DataFrame(df3)"
   ]
  },
  {
   "cell_type": "code",
   "execution_count": 134,
   "id": "affffd4c",
   "metadata": {},
   "outputs": [
    {
     "name": "stdout",
     "output_type": "stream",
     "text": [
      "WARNING:tensorflow:From C:\\Users\\Rakesh\\anaconda3\\lib\\site-packages\\keras\\src\\losses.py:2976: The name tf.losses.sparse_softmax_cross_entropy is deprecated. Please use tf.compat.v1.losses.sparse_softmax_cross_entropy instead.\n",
      "\n"
     ]
    }
   ],
   "source": [
    "from sklearn.preprocessing import MinMaxScaler\n",
    "from sklearn.metrics import mean_squared_error\n",
    "from tensorflow.keras.models import Sequential\n",
    "from tensorflow.keras.layers import LSTM, Dense\n",
    "from statsmodels.tsa.stattools import adfuller, acf, pacf"
   ]
  },
  {
   "cell_type": "code",
   "execution_count": 137,
   "id": "de6a5520",
   "metadata": {},
   "outputs": [
    {
     "data": {
      "text/plain": [
       "{'Date': DatetimeIndex(['2020-01-01', '2020-01-02', '2020-01-03', '2020-01-04',\n",
       "                '2020-01-05', '2020-01-06', '2020-01-07', '2020-01-08',\n",
       "                '2020-01-09', '2020-01-10', '2020-01-11', '2020-01-12',\n",
       "                '2020-01-13', '2020-01-14', '2020-01-15', '2020-01-16',\n",
       "                '2020-01-17', '2020-01-18', '2020-01-19', '2020-01-20',\n",
       "                '2020-01-21', '2020-01-22', '2020-01-23', '2020-01-24',\n",
       "                '2020-01-25', '2020-01-26', '2020-01-27', '2020-01-28',\n",
       "                '2020-01-29', '2020-01-30', '2020-01-31', '2020-02-01',\n",
       "                '2020-02-02', '2020-02-03', '2020-02-04', '2020-02-05',\n",
       "                '2020-02-06', '2020-02-07', '2020-02-08', '2020-02-09',\n",
       "                '2020-02-10', '2020-02-11', '2020-02-12', '2020-02-13',\n",
       "                '2020-02-14', '2020-02-15', '2020-02-16', '2020-02-17',\n",
       "                '2020-02-18', '2020-02-19', '2020-02-20', '2020-02-21',\n",
       "                '2020-02-22', '2020-02-23', '2020-02-24', '2020-02-25',\n",
       "                '2020-02-26', '2020-02-27', '2020-02-28', '2020-02-29',\n",
       "                '2020-03-01', '2020-03-02', '2020-03-03', '2020-03-04',\n",
       "                '2020-03-05', '2020-03-06', '2020-03-07', '2020-03-08',\n",
       "                '2020-03-09', '2020-03-10', '2020-03-11', '2020-03-12',\n",
       "                '2020-03-13', '2020-03-14', '2020-03-15', '2020-03-16',\n",
       "                '2020-03-17', '2020-03-18', '2020-03-19', '2020-03-20',\n",
       "                '2020-03-21', '2020-03-22', '2020-03-23', '2020-03-24',\n",
       "                '2020-03-25', '2020-03-26', '2020-03-27', '2020-03-28',\n",
       "                '2020-03-29', '2020-03-30', '2020-03-31', '2020-04-01',\n",
       "                '2020-04-02', '2020-04-03', '2020-04-04', '2020-04-05',\n",
       "                '2020-04-06', '2020-04-07', '2020-04-08', '2020-04-09'],\n",
       "               dtype='datetime64[ns]', freq='D'),\n",
       " 'Sales': array([334, 336, 160, 460, 689, 973, 238, 593, 300, 271, 837, 639, 793,\n",
       "        209, 573, 214, 196, 585, 133, 966, 441, 315, 112, 299, 407, 834,\n",
       "        929, 818, 280, 137, 942, 209, 915, 832, 267, 481, 450, 317, 115,\n",
       "        909, 758, 734, 684, 359, 309, 298, 632, 663, 859, 527, 539, 398,\n",
       "        577, 377, 684, 365, 225, 224, 694, 195, 434, 512, 235, 551, 739,\n",
       "        397, 633, 106, 258, 493, 778, 462, 653, 564, 676, 517, 763, 491,\n",
       "        979, 286, 701, 447, 148, 284, 684, 556, 175, 369, 189, 836, 797,\n",
       "        474, 210, 912, 547, 218, 860, 962, 681, 212])}"
      ]
     },
     "execution_count": 137,
     "metadata": {},
     "output_type": "execute_result"
    }
   ],
   "source": [
    "df3"
   ]
  },
  {
   "cell_type": "code",
   "execution_count": 138,
   "id": "51efccc7",
   "metadata": {},
   "outputs": [],
   "source": [
    "df['Date'] = pd.to_datetime(df3['Date'])\n",
    "df.set_index('Date', inplace=True)"
   ]
  },
  {
   "cell_type": "code",
   "execution_count": 139,
   "id": "51e3d6d8",
   "metadata": {},
   "outputs": [
    {
     "name": "stdout",
     "output_type": "stream",
     "text": [
      "ADF Statistic: -9.796632007489894\n",
      "p-value: 6.149611837368594e-17\n",
      "Critical Values:\n",
      "\t1%: -3.498198082189098\n",
      "\t5%: -2.891208211860468\n",
      "\t10%: -2.5825959973472097\n"
     ]
    }
   ],
   "source": [
    "# Using Augmented Dickey-Fuller test\n",
    "def check_stationarity(timeseries):\n",
    "    # Perform Dickey-Fuller test\n",
    "    result = adfuller(timeseries, autolag='AIC')\n",
    "    print(f'ADF Statistic: {result[0]}')\n",
    "    print(f'p-value: {result[1]}')\n",
    "    print('Critical Values:')\n",
    "    for key, value in result[4].items():\n",
    "        print(f'\\t{key}: {value}')\n",
    "    \n",
    "check_stationarity(df['Sales'])"
   ]
  },
  {
   "cell_type": "code",
   "execution_count": 140,
   "id": "2a1f61d2",
   "metadata": {},
   "outputs": [],
   "source": [
    "df['Sales_diff'] = df['Sales'] - df['Sales'].shift(1)\n",
    "df.dropna(inplace=True)"
   ]
  },
  {
   "cell_type": "code",
   "execution_count": 141,
   "id": "d373c6a2",
   "metadata": {},
   "outputs": [],
   "source": [
    "# Checked autocorrelation and partial autocorrelation\n",
    "lag_acf = acf(df['Sales_diff'], nlags=20)\n",
    "lag_pacf = pacf(df['Sales_diff'], nlags=20, method='ols')"
   ]
  },
  {
   "cell_type": "code",
   "execution_count": 142,
   "id": "ee81c663",
   "metadata": {},
   "outputs": [
    {
     "data": {
      "text/plain": [
       "array([ 1.00000000e+00, -4.62858961e-01,  2.70759921e-02, -6.38357289e-02,\n",
       "       -3.15187127e-02, -7.04473903e-02,  6.68972810e-02,  1.66400140e-01,\n",
       "       -1.47253627e-01,  1.52999827e-01, -1.36916275e-01, -8.11385963e-02,\n",
       "        2.32871133e-02,  4.51946648e-02, -3.92057459e-04,  1.83530165e-02,\n",
       "        1.46981127e-01, -2.13965807e-01,  8.63711428e-02, -1.55709230e-01,\n",
       "        1.71857040e-01])"
      ]
     },
     "execution_count": 142,
     "metadata": {},
     "output_type": "execute_result"
    }
   ],
   "source": [
    "lag_acf"
   ]
  },
  {
   "cell_type": "code",
   "execution_count": 143,
   "id": "dbe65ec3",
   "metadata": {},
   "outputs": [
    {
     "data": {
      "text/plain": [
       "array([ 1.        , -0.47114939, -0.26238163, -0.24227135, -0.2423921 ,\n",
       "       -0.36636528, -0.38661962, -0.05107813, -0.14103057,  0.08830808,\n",
       "        0.0812147 , -0.05968869, -0.10762465, -0.11320445, -0.19385364,\n",
       "       -0.3027257 ,  0.01447515, -0.04233535,  0.0632292 , -0.26981418,\n",
       "       -0.01934087])"
      ]
     },
     "execution_count": 143,
     "metadata": {},
     "output_type": "execute_result"
    }
   ],
   "source": [
    "lag_pacf"
   ]
  },
  {
   "cell_type": "code",
   "execution_count": 144,
   "id": "c02e5b5a",
   "metadata": {},
   "outputs": [
    {
     "data": {
      "text/plain": [
       "Text(0.5, 1.0, 'Autocorrelation Function')"
      ]
     },
     "execution_count": 144,
     "metadata": {},
     "output_type": "execute_result"
    },
    {
     "data": {
      "image/png": "[encoded data removed]",
      "text/plain": [
       "<Figure size 1200x500 with 1 Axes>"
      ]
     },
     "metadata": {},
     "output_type": "display_data"
    }
   ],
   "source": [
    "plt.figure(figsize=(12, 5))\n",
    "plt.subplot(121)\n",
    "plt.stem(lag_acf)\n",
    "plt.axhline(y=0, linestyle='--', color='gray')\n",
    "plt.title('Autocorrelation Function')"
   ]
  },
  {
   "cell_type": "code",
   "execution_count": 145,
   "id": "b7cb66f6",
   "metadata": {},
   "outputs": [
    {
     "data": {
      "image/png": "[encoded data removed]",
      "text/plain": [
       "<Figure size 640x480 with 1 Axes>"
      ]
     },
     "metadata": {},
     "output_type": "display_data"
    }
   ],
   "source": [
    "plt.subplot(122)\n",
    "plt.stem(lag_pacf)\n",
    "plt.axhline(y=0, linestyle='--', color='gray')\n",
    "plt.title('Partial Autocorrelation Function')\n",
    "plt.show()"
   ]
  },
  {
   "cell_type": "code",
   "execution_count": 146,
   "id": "c47b6de1",
   "metadata": {},
   "outputs": [],
   "source": [
    "# Transformed time series data into supervised learning data\n",
    "def create_supervised_data(df3, lag=1):\n",
    "    df = pd.DataFrame(df3)\n",
    "    columns = [df.shift(i) for i in range(1, lag+1)]\n",
    "    columns.append(df)\n",
    "    df = pd.concat(columns, axis=1)\n",
    "    df.fillna(0, inplace=True)\n",
    "    return df"
   ]
  },
  {
   "cell_type": "code",
   "execution_count": 147,
   "id": "810f1edf",
   "metadata": {},
   "outputs": [
    {
     "name": "stdout",
     "output_type": "stream",
     "text": [
      "              t-3    t-2    t-1      t\n",
      "Date                                  \n",
      "2020-01-02    0.0    0.0    0.0    2.0\n",
      "2020-01-03    2.0    0.0    0.0 -176.0\n",
      "2020-01-04 -176.0    2.0    0.0  300.0\n",
      "2020-01-05  300.0 -176.0    2.0  229.0\n",
      "2020-01-06  229.0  300.0 -176.0  284.0\n"
     ]
    }
   ],
   "source": [
    "lag = 3 \n",
    "supervised_df = create_supervised_data(df['Sales_diff'], lag)\n",
    "supervised_df.columns = [f't-{lag-i}' for i in range(lag)] + ['t']\n",
    "print(supervised_df.head())"
   ]
  },
  {
   "cell_type": "code",
   "execution_count": 148,
   "id": "898e0c66",
   "metadata": {},
   "outputs": [],
   "source": [
    "# Scaled the data in the range (-1, 1)\n",
    "scaler = MinMaxScaler(feature_range=(-1, 1))\n",
    "scaled_data = scaler.fit_transform(supervised_df.values)"
   ]
  },
  {
   "cell_type": "code",
   "execution_count": 149,
   "id": "64fd41ec",
   "metadata": {},
   "outputs": [],
   "source": [
    "train_size = int(len(scaled_data) * 0.8)\n",
    "train, test = scaled_data[0:train_size], scaled_data[train_size:]"
   ]
  },
  {
   "cell_type": "code",
   "execution_count": 150,
   "id": "11c3ba24",
   "metadata": {},
   "outputs": [],
   "source": [
    "# Prepared data for LSTM model\n",
    "X_train, y_train = train[:, :-1], train[:, -1]\n",
    "X_test, y_test = test[:, :-1], test[:, -1]"
   ]
  },
  {
   "cell_type": "code",
   "execution_count": 151,
   "id": "4b81f016",
   "metadata": {},
   "outputs": [],
   "source": [
    "X_train = X_train.reshape(X_train.shape[0], 1, X_train.shape[1])\n",
    "X_test = X_test.reshape(X_test.shape[0], 1, X_test.shape[1])"
   ]
  },
  {
   "cell_type": "code",
   "execution_count": 152,
   "id": "93a2f784",
   "metadata": {},
   "outputs": [
    {
     "name": "stdout",
     "output_type": "stream",
     "text": [
      "WARNING:tensorflow:From C:\\Users\\Rakesh\\anaconda3\\lib\\site-packages\\keras\\src\\backend.py:873: The name tf.get_default_graph is deprecated. Please use tf.compat.v1.get_default_graph instead.\n",
      "\n",
      "WARNING:tensorflow:From C:\\Users\\Rakesh\\anaconda3\\lib\\site-packages\\keras\\src\\optimizers\\__init__.py:309: The name tf.train.Optimizer is deprecated. Please use tf.compat.v1.train.Optimizer instead.\n",
      "\n"
     ]
    }
   ],
   "source": [
    "# Builded the LSTM model\n",
    "model = Sequential()\n",
    "model.add(LSTM(50, input_shape=(X_train.shape[1], X_train.shape[2])))\n",
    "model.add(Dense(1))\n",
    "model.compile(loss='mean_squared_error', optimizer='adam')"
   ]
  },
  {
   "cell_type": "code",
   "execution_count": 153,
   "id": "90f56bcc",
   "metadata": {},
   "outputs": [
    {
     "name": "stdout",
     "output_type": "stream",
     "text": [
      "Epoch 1/50\n",
      "WARNING:tensorflow:From C:\\Users\\Rakesh\\anaconda3\\lib\\site-packages\\keras\\src\\utils\\tf_utils.py:492: The name tf.ragged.RaggedTensorValue is deprecated. Please use tf.compat.v1.ragged.RaggedTensorValue instead.\n",
      "\n",
      "8/8 [==============================] - 3s 7ms/step - loss: 0.2008\n",
      "Epoch 2/50\n",
      "8/8 [==============================] - 0s 4ms/step - loss: 0.1954\n",
      "Epoch 3/50\n",
      "8/8 [==============================] - 0s 4ms/step - loss: 0.1907\n",
      "Epoch 4/50\n",
      "8/8 [==============================] - 0s 5ms/step - loss: 0.1862\n",
      "Epoch 5/50\n",
      "8/8 [==============================] - 0s 5ms/step - loss: 0.1828\n",
      "Epoch 6/50\n",
      "8/8 [==============================] - 0s 4ms/step - loss: 0.1789\n",
      "Epoch 7/50\n",
      "8/8 [==============================] - 0s 5ms/step - loss: 0.1755\n",
      "Epoch 8/50\n",
      "8/8 [==============================] - 0s 4ms/step - loss: 0.1723\n",
      "Epoch 9/50\n",
      "8/8 [==============================] - 0s 5ms/step - loss: 0.1697\n",
      "Epoch 10/50\n",
      "8/8 [==============================] - 0s 4ms/step - loss: 0.1667\n",
      "Epoch 11/50\n",
      "8/8 [==============================] - 0s 5ms/step - loss: 0.1644\n",
      "Epoch 12/50\n",
      "8/8 [==============================] - 0s 4ms/step - loss: 0.1618\n",
      "Epoch 13/50\n",
      "8/8 [==============================] - 0s 4ms/step - loss: 0.1599\n",
      "Epoch 14/50\n",
      "8/8 [==============================] - 0s 5ms/step - loss: 0.1576\n",
      "Epoch 15/50\n",
      "8/8 [==============================] - 0s 4ms/step - loss: 0.1556\n",
      "Epoch 16/50\n",
      "8/8 [==============================] - 0s 5ms/step - loss: 0.1543\n",
      "Epoch 17/50\n",
      "8/8 [==============================] - 0s 5ms/step - loss: 0.1522\n",
      "Epoch 18/50\n",
      "8/8 [==============================] - 0s 4ms/step - loss: 0.1511\n",
      "Epoch 19/50\n",
      "8/8 [==============================] - 0s 4ms/step - loss: 0.1494\n",
      "Epoch 20/50\n",
      "8/8 [==============================] - 0s 4ms/step - loss: 0.1480\n",
      "Epoch 21/50\n",
      "8/8 [==============================] - 0s 4ms/step - loss: 0.1471\n",
      "Epoch 22/50\n",
      "8/8 [==============================] - 0s 4ms/step - loss: 0.1461\n",
      "Epoch 23/50\n",
      "8/8 [==============================] - 0s 4ms/step - loss: 0.1448\n",
      "Epoch 24/50\n",
      "8/8 [==============================] - 0s 2ms/step - loss: 0.1438\n",
      "Epoch 25/50\n",
      "8/8 [==============================] - 0s 5ms/step - loss: 0.1430\n",
      "Epoch 26/50\n",
      "8/8 [==============================] - 0s 4ms/step - loss: 0.1423\n",
      "Epoch 27/50\n",
      "8/8 [==============================] - 0s 4ms/step - loss: 0.1418\n",
      "Epoch 28/50\n",
      "8/8 [==============================] - 0s 5ms/step - loss: 0.1408\n",
      "Epoch 29/50\n",
      "8/8 [==============================] - 0s 5ms/step - loss: 0.1403\n",
      "Epoch 30/50\n",
      "8/8 [==============================] - 0s 5ms/step - loss: 0.1397\n",
      "Epoch 31/50\n",
      "8/8 [==============================] - 0s 4ms/step - loss: 0.1395\n",
      "Epoch 32/50\n",
      "8/8 [==============================] - 0s 4ms/step - loss: 0.1389\n",
      "Epoch 33/50\n",
      "8/8 [==============================] - 0s 6ms/step - loss: 0.1383\n",
      "Epoch 34/50\n",
      "8/8 [==============================] - 0s 4ms/step - loss: 0.1382\n",
      "Epoch 35/50\n",
      "8/8 [==============================] - 0s 4ms/step - loss: 0.1379\n",
      "Epoch 36/50\n",
      "8/8 [==============================] - 0s 4ms/step - loss: 0.1373\n",
      "Epoch 37/50\n",
      "8/8 [==============================] - 0s 4ms/step - loss: 0.1376\n",
      "Epoch 38/50\n",
      "8/8 [==============================] - 0s 4ms/step - loss: 0.1371\n",
      "Epoch 39/50\n",
      "8/8 [==============================] - 0s 5ms/step - loss: 0.1368\n",
      "Epoch 40/50\n",
      "8/8 [==============================] - 0s 4ms/step - loss: 0.1362\n",
      "Epoch 41/50\n",
      "8/8 [==============================] - 0s 4ms/step - loss: 0.1361\n",
      "Epoch 42/50\n",
      "8/8 [==============================] - 0s 7ms/step - loss: 0.1361\n",
      "Epoch 43/50\n",
      "8/8 [==============================] - 0s 4ms/step - loss: 0.1360\n",
      "Epoch 44/50\n",
      "8/8 [==============================] - 0s 4ms/step - loss: 0.1356\n",
      "Epoch 45/50\n",
      "8/8 [==============================] - 0s 4ms/step - loss: 0.1356\n",
      "Epoch 46/50\n",
      "8/8 [==============================] - 0s 4ms/step - loss: 0.1352\n",
      "Epoch 47/50\n",
      "8/8 [==============================] - 0s 4ms/step - loss: 0.1351\n",
      "Epoch 48/50\n",
      "8/8 [==============================] - 0s 6ms/step - loss: 0.1350\n",
      "Epoch 49/50\n",
      "8/8 [==============================] - 0s 4ms/step - loss: 0.1349\n",
      "Epoch 50/50\n",
      "8/8 [==============================] - 0s 4ms/step - loss: 0.1347\n"
     ]
    },
    {
     "data": {
      "text/plain": [
       "<keras.src.callbacks.History at 0x19855d17a30>"
      ]
     },
     "execution_count": 153,
     "metadata": {},
     "output_type": "execute_result"
    }
   ],
   "source": [
    "# Train the model\n",
    "model.fit(X_train, y_train, epochs=50, batch_size=10, verbose=1)"
   ]
  },
  {
   "cell_type": "code",
   "execution_count": 154,
   "id": "3ce5e54e",
   "metadata": {},
   "outputs": [
    {
     "name": "stdout",
     "output_type": "stream",
     "text": [
      "3/3 [==============================] - 0s 4ms/step\n",
      "1/1 [==============================] - 0s 30ms/step\n"
     ]
    }
   ],
   "source": [
    "# predictions\n",
    "train_predict = model.predict(X_train)\n",
    "test_predict = model.predict(X_test)"
   ]
  },
  {
   "cell_type": "code",
   "execution_count": 155,
   "id": "f5405afd",
   "metadata": {},
   "outputs": [
    {
     "name": "stdout",
     "output_type": "stream",
     "text": [
      "Train RMSE: 0.3664801591174278\n",
      "Test RMSE: 0.42040182183612307\n"
     ]
    }
   ],
   "source": [
    "# Calculated RMSE\n",
    "train_rmse = np.sqrt(mean_squared_error(y_train, train_predict))\n",
    "test_rmse = np.sqrt(mean_squared_error(y_test, test_predict))\n",
    "print(f'Train RMSE: {train_rmse}')\n",
    "print(f'Test RMSE: {test_rmse}')"
   ]
  },
  {
   "cell_type": "code",
   "execution_count": 156,
   "id": "a541f0c5",
   "metadata": {},
   "outputs": [
    {
     "name": "stdout",
     "output_type": "stream",
     "text": [
      "Requirement already satisfied: mlflow in c:\\users\\rakesh\\anaconda3\\lib\\site-packages (2.11.3)\n",
      "Requirement already satisfied: Flask<4 in c:\\users\\rakesh\\anaconda3\\lib\\site-packages (from mlflow) (2.2.2)\n",
      "Requirement already satisfied: numpy<2 in c:\\users\\rakesh\\anaconda3\\lib\\site-packages (from mlflow) (1.23.5)\n",
      "Requirement already satisfied: graphene<4 in c:\\users\\rakesh\\anaconda3\\lib\\site-packages (from mlflow) (3.3)\n",
      "Requirement already satisfied: docker<8,>=4.0.0 in c:\\users\\rakesh\\anaconda3\\lib\\site-packages (from mlflow) (7.0.0)\n",
      "Requirement already satisfied: pyyaml<7,>=5.1 in c:\\users\\rakesh\\anaconda3\\lib\\site-packages (from mlflow) (6.0)\n",
      "Requirement already satisfied: click<9,>=7.0 in c:\\users\\rakesh\\anaconda3\\lib\\site-packages (from mlflow) (8.0.4)\n",
      "Requirement already satisfied: pyarrow<16,>=4.0.0 in c:\\users\\rakesh\\anaconda3\\lib\\site-packages (from mlflow) (15.0.0)\n",
      "Requirement already satisfied: scipy<2 in c:\\users\\rakesh\\anaconda3\\lib\\site-packages (from mlflow) (1.10.0)\n",
      "Requirement already satisfied: pandas<3 in c:\\users\\rakesh\\anaconda3\\lib\\site-packages (from mlflow) (1.5.3)\n",
      "Requirement already satisfied: alembic!=1.10.0,<2 in c:\\users\\rakesh\\anaconda3\\lib\\site-packages (from mlflow) (1.13.1)\n",
      "Requirement already satisfied: scikit-learn<2 in c:\\users\\rakesh\\anaconda3\\lib\\site-packages (from mlflow) (1.2.1)\n",
      "Requirement already satisfied: sqlalchemy<3,>=1.4.0 in c:\\users\\rakesh\\anaconda3\\lib\\site-packages (from mlflow) (1.4.39)\n",
      "Requirement already satisfied: waitress<4 in c:\\users\\rakesh\\anaconda3\\lib\\site-packages (from mlflow) (3.0.0)\n",
      "Requirement already satisfied: cloudpickle<4 in c:\\users\\rakesh\\anaconda3\\lib\\site-packages (from mlflow) (2.0.0)\n",
      "Requirement already satisfied: entrypoints<1 in c:\\users\\rakesh\\anaconda3\\lib\\site-packages (from mlflow) (0.4)\n",
      "Requirement already satisfied: requests<3,>=2.17.3 in c:\\users\\rakesh\\anaconda3\\lib\\site-packages (from mlflow) (2.28.1)\n",
      "Requirement already satisfied: sqlparse<1,>=0.4.0 in c:\\users\\rakesh\\anaconda3\\lib\\site-packages (from mlflow) (0.4.4)\n",
      "Requirement already satisfied: protobuf<5,>=3.12.0 in c:\\users\\rakesh\\anaconda3\\lib\\site-packages (from mlflow) (4.25.3)\n",
      "Requirement already satisfied: markdown<4,>=3.3 in c:\\users\\rakesh\\anaconda3\\lib\\site-packages (from mlflow) (3.4.1)\n",
      "Requirement already satisfied: packaging<24 in c:\\users\\rakesh\\anaconda3\\lib\\site-packages (from mlflow) (22.0)\n",
      "Requirement already satisfied: gitpython<4,>=3.1.9 in c:\\users\\rakesh\\anaconda3\\lib\\site-packages (from mlflow) (3.1.42)\n",
      "Requirement already satisfied: querystring-parser<2 in c:\\users\\rakesh\\anaconda3\\lib\\site-packages (from mlflow) (1.2.4)\n",
      "Requirement already satisfied: Jinja2<4,>=3.0 in c:\\users\\rakesh\\anaconda3\\lib\\site-packages (from mlflow) (3.1.2)\n",
      "Requirement already satisfied: importlib-metadata!=4.7.0,<8,>=3.7.0 in c:\\users\\rakesh\\anaconda3\\lib\\site-packages (from mlflow) (4.11.3)\n",
      "Requirement already satisfied: matplotlib<4 in c:\\users\\rakesh\\anaconda3\\lib\\site-packages (from mlflow) (3.7.0)\n",
      "Requirement already satisfied: pytz<2025 in c:\\users\\rakesh\\anaconda3\\lib\\site-packages (from mlflow) (2022.7)\n",
      "Requirement already satisfied: typing-extensions>=4 in c:\\users\\rakesh\\anaconda3\\lib\\site-packages (from alembic!=1.10.0,<2->mlflow) (4.4.0)\n",
      "Requirement already satisfied: Mako in c:\\users\\rakesh\\anaconda3\\lib\\site-packages (from alembic!=1.10.0,<2->mlflow) (1.3.2)\n",
      "Requirement already satisfied: colorama in c:\\users\\rakesh\\anaconda3\\lib\\site-packages (from click<9,>=7.0->mlflow) (0.4.6)\n",
      "Requirement already satisfied: urllib3>=1.26.0 in c:\\users\\rakesh\\anaconda3\\lib\\site-packages (from docker<8,>=4.0.0->mlflow) (1.26.14)\n",
      "Requirement already satisfied: pywin32>=304 in c:\\users\\rakesh\\anaconda3\\lib\\site-packages (from docker<8,>=4.0.0->mlflow) (305.1)\n",
      "Requirement already satisfied: itsdangerous>=2.0 in c:\\users\\rakesh\\anaconda3\\lib\\site-packages (from Flask<4->mlflow) (2.0.1)\n",
      "Requirement already satisfied: Werkzeug>=2.2.2 in c:\\users\\rakesh\\anaconda3\\lib\\site-packages (from Flask<4->mlflow) (2.2.2)\n",
      "Requirement already satisfied: gitdb<5,>=4.0.1 in c:\\users\\rakesh\\anaconda3\\lib\\site-packages (from gitpython<4,>=3.1.9->mlflow) (4.0.11)\n",
      "Requirement already satisfied: graphql-relay<3.3,>=3.1 in c:\\users\\rakesh\\anaconda3\\lib\\site-packages (from graphene<4->mlflow) (3.2.0)\n",
      "Requirement already satisfied: aniso8601<10,>=8 in c:\\users\\rakesh\\anaconda3\\lib\\site-packages (from graphene<4->mlflow) (9.0.1)\n",
      "Requirement already satisfied: graphql-core<3.3,>=3.1 in c:\\users\\rakesh\\anaconda3\\lib\\site-packages (from graphene<4->mlflow) (3.2.3)\n",
      "Requirement already satisfied: zipp>=0.5 in c:\\users\\rakesh\\anaconda3\\lib\\site-packages (from importlib-metadata!=4.7.0,<8,>=3.7.0->mlflow) (3.11.0)\n",
      "Requirement already satisfied: MarkupSafe>=2.0 in c:\\users\\rakesh\\anaconda3\\lib\\site-packages (from Jinja2<4,>=3.0->mlflow) (2.1.1)\n",
      "Requirement already satisfied: fonttools>=4.22.0 in c:\\users\\rakesh\\anaconda3\\lib\\site-packages (from matplotlib<4->mlflow) (4.25.0)\n",
      "Requirement already satisfied: kiwisolver>=1.0.1 in c:\\users\\rakesh\\anaconda3\\lib\\site-packages (from matplotlib<4->mlflow) (1.4.4)\n",
      "Requirement already satisfied: contourpy>=1.0.1 in c:\\users\\rakesh\\anaconda3\\lib\\site-packages (from matplotlib<4->mlflow) (1.0.5)\n",
      "Requirement already satisfied: pillow>=6.2.0 in c:\\users\\rakesh\\anaconda3\\lib\\site-packages (from matplotlib<4->mlflow) (10.2.0)\n",
      "Requirement already satisfied: python-dateutil>=2.7 in c:\\users\\rakesh\\anaconda3\\lib\\site-packages (from matplotlib<4->mlflow) (2.8.2)\n",
      "Requirement already satisfied: cycler>=0.10 in c:\\users\\rakesh\\anaconda3\\lib\\site-packages (from matplotlib<4->mlflow) (0.11.0)\n",
      "Requirement already satisfied: pyparsing>=2.3.1 in c:\\users\\rakesh\\anaconda3\\lib\\site-packages (from matplotlib<4->mlflow) (3.0.9)\n",
      "Requirement already satisfied: six in c:\\users\\rakesh\\anaconda3\\lib\\site-packages (from querystring-parser<2->mlflow) (1.16.0)\n",
      "Requirement already satisfied: certifi>=2017.4.17 in c:\\users\\rakesh\\anaconda3\\lib\\site-packages (from requests<3,>=2.17.3->mlflow) (2024.2.2)\n",
      "Requirement already satisfied: idna<4,>=2.5 in c:\\users\\rakesh\\anaconda3\\lib\\site-packages (from requests<3,>=2.17.3->mlflow) (3.4)\n",
      "Requirement already satisfied: charset-normalizer<3,>=2 in c:\\users\\rakesh\\anaconda3\\lib\\site-packages (from requests<3,>=2.17.3->mlflow) (2.0.4)\n",
      "Requirement already satisfied: joblib>=1.1.1 in c:\\users\\rakesh\\anaconda3\\lib\\site-packages (from scikit-learn<2->mlflow) (1.1.1)\n",
      "Requirement already satisfied: threadpoolctl>=2.0.0 in c:\\users\\rakesh\\anaconda3\\lib\\site-packages (from scikit-learn<2->mlflow) (2.2.0)\n",
      "Requirement already satisfied: greenlet!=0.4.17 in c:\\users\\rakesh\\anaconda3\\lib\\site-packages (from sqlalchemy<3,>=1.4.0->mlflow) (2.0.1)\n",
      "Requirement already satisfied: smmap<6,>=3.0.1 in c:\\users\\rakesh\\anaconda3\\lib\\site-packages (from gitdb<5,>=4.0.1->gitpython<4,>=3.1.9->mlflow) (5.0.1)\n",
      "Note: you may need to restart the kernel to use updated packages.\n"
     ]
    }
   ],
   "source": [
    "pip install mlflow"
   ]
  },
  {
   "cell_type": "code",
   "execution_count": 157,
   "id": "eeabca1d",
   "metadata": {},
   "outputs": [],
   "source": [
    "import mlflow\n",
    "from sklearn.preprocessing import MinMaxScaler\n",
    "from sklearn.metrics import mean_squared_error\n",
    "from tensorflow.keras.models import Sequential\n",
    "from tensorflow.keras.layers import LSTM, Dense"
   ]
  },
  {
   "cell_type": "code",
   "execution_count": 158,
   "id": "e2a57b49",
   "metadata": {},
   "outputs": [],
   "source": [
    "df3 = {\n",
    "    'Date': pd.date_range(start='2020-01-01', periods=100, freq='D'),\n",
    "    'Sales': np.random.randint(100, 1000, size=100)\n",
    "}\n",
    "df = pd.DataFrame(df3)"
   ]
  },
  {
   "cell_type": "code",
   "execution_count": 159,
   "id": "22b4c809",
   "metadata": {},
   "outputs": [
    {
     "data": {
      "text/plain": [
       "{'Date': DatetimeIndex(['2020-01-01', '2020-01-02', '2020-01-03', '2020-01-04',\n",
       "                '2020-01-05', '2020-01-06', '2020-01-07', '2020-01-08',\n",
       "                '2020-01-09', '2020-01-10', '2020-01-11', '2020-01-12',\n",
       "                '2020-01-13', '2020-01-14', '2020-01-15', '2020-01-16',\n",
       "                '2020-01-17', '2020-01-18', '2020-01-19', '2020-01-20',\n",
       "                '2020-01-21', '2020-01-22', '2020-01-23', '2020-01-24',\n",
       "                '2020-01-25', '2020-01-26', '2020-01-27', '2020-01-28',\n",
       "                '2020-01-29', '2020-01-30', '2020-01-31', '2020-02-01',\n",
       "                '2020-02-02', '2020-02-03', '2020-02-04', '2020-02-05',\n",
       "                '2020-02-06', '2020-02-07', '2020-02-08', '2020-02-09',\n",
       "                '2020-02-10', '2020-02-11', '2020-02-12', '2020-02-13',\n",
       "                '2020-02-14', '2020-02-15', '2020-02-16', '2020-02-17',\n",
       "                '2020-02-18', '2020-02-19', '2020-02-20', '2020-02-21',\n",
       "                '2020-02-22', '2020-02-23', '2020-02-24', '2020-02-25',\n",
       "                '2020-02-26', '2020-02-27', '2020-02-28', '2020-02-29',\n",
       "                '2020-03-01', '2020-03-02', '2020-03-03', '2020-03-04',\n",
       "                '2020-03-05', '2020-03-06', '2020-03-07', '2020-03-08',\n",
       "                '2020-03-09', '2020-03-10', '2020-03-11', '2020-03-12',\n",
       "                '2020-03-13', '2020-03-14', '2020-03-15', '2020-03-16',\n",
       "                '2020-03-17', '2020-03-18', '2020-03-19', '2020-03-20',\n",
       "                '2020-03-21', '2020-03-22', '2020-03-23', '2020-03-24',\n",
       "                '2020-03-25', '2020-03-26', '2020-03-27', '2020-03-28',\n",
       "                '2020-03-29', '2020-03-30', '2020-03-31', '2020-04-01',\n",
       "                '2020-04-02', '2020-04-03', '2020-04-04', '2020-04-05',\n",
       "                '2020-04-06', '2020-04-07', '2020-04-08', '2020-04-09'],\n",
       "               dtype='datetime64[ns]', freq='D'),\n",
       " 'Sales': array([749, 693, 897, 183, 364, 133, 749, 188, 760, 379, 598, 572, 845,\n",
       "        645, 862, 465, 801, 387, 581, 998, 162, 647, 553, 715, 565, 371,\n",
       "        121, 357, 375, 989, 785, 796, 319, 492, 503, 140, 219, 427, 649,\n",
       "        514, 551, 491, 666, 189, 490, 318, 927, 160, 417, 135, 424, 518,\n",
       "        714, 730, 821, 559, 967, 325, 575, 611, 436, 351, 887, 270, 602,\n",
       "        383, 301, 668, 679, 879, 173, 772, 696, 545, 244, 670, 573, 181,\n",
       "        482, 446, 890, 785, 319, 247, 404, 530, 322, 210, 593, 620, 578,\n",
       "        852, 894, 871, 366, 348, 587, 707, 281, 885])}"
      ]
     },
     "execution_count": 159,
     "metadata": {},
     "output_type": "execute_result"
    }
   ],
   "source": [
    "df3"
   ]
  },
  {
   "cell_type": "code",
   "execution_count": 160,
   "id": "a67a9aa9",
   "metadata": {},
   "outputs": [],
   "source": [
    "df['Date'] = pd.to_datetime(df['Date'])\n",
    "df.set_index('Date', inplace=True)"
   ]
  },
  {
   "cell_type": "code",
   "execution_count": 161,
   "id": "f94f5def",
   "metadata": {},
   "outputs": [],
   "source": [
    "df['Sales_diff'] = df['Sales'] - df['Sales'].shift(1)\n",
    "df.dropna(inplace=True)"
   ]
  },
  {
   "cell_type": "code",
   "execution_count": 162,
   "id": "041ea34f",
   "metadata": {},
   "outputs": [],
   "source": [
    "# Transformed time series data into supervised learning data\n",
    "def create_supervised_data(data, lag=1):\n",
    "    df = pd.DataFrame(data)\n",
    "    columns = [df.shift(i) for i in range(1, lag+1)]\n",
    "    columns.append(df)\n",
    "    df = pd.concat(columns, axis=1)\n",
    "    df.fillna(0, inplace=True)\n",
    "    return df"
   ]
  },
  {
   "cell_type": "code",
   "execution_count": 163,
   "id": "16fe8e06",
   "metadata": {},
   "outputs": [],
   "source": [
    "lag = 3 \n",
    "supervised_df = create_supervised_data(df['Sales_diff'], lag)\n",
    "supervised_df.columns = [f't-{lag-i}' for i in range(lag)] + ['t']"
   ]
  },
  {
   "cell_type": "code",
   "execution_count": 164,
   "id": "c38c6aa2",
   "metadata": {},
   "outputs": [],
   "source": [
    "# Scaled the data in the range (-1, 1)\n",
    "scaler = MinMaxScaler(feature_range=(-1, 1))\n",
    "scaled_data = scaler.fit_transform(supervised_df.values)"
   ]
  },
  {
   "cell_type": "code",
   "execution_count": 165,
   "id": "c93fd3ec",
   "metadata": {},
   "outputs": [],
   "source": [
    "train_size = int(len(scaled_data) * 0.8)\n",
    "train, test = scaled_data[0:train_size], scaled_data[train_size:]"
   ]
  },
  {
   "cell_type": "code",
   "execution_count": 166,
   "id": "68850de0",
   "metadata": {},
   "outputs": [],
   "source": [
    "# Prepared the data for LSTM model\n",
    "X_test, y_test = test[:, :-1], test[:, -1]\n",
    "X_test = X_test.reshape(X_test.shape[0], 1, X_test.shape[1])"
   ]
  },
  {
   "cell_type": "code",
   "execution_count": 167,
   "id": "f56d6166",
   "metadata": {},
   "outputs": [
    {
     "name": "stdout",
     "output_type": "stream",
     "text": [
      "1/1 [==============================] - 0s 28ms/step\n"
     ]
    }
   ],
   "source": [
    "# predictions\n",
    "y_pred = model.predict(X_test)"
   ]
  },
  {
   "cell_type": "code",
   "execution_count": 168,
   "id": "6a52b827",
   "metadata": {},
   "outputs": [],
   "source": [
    "# Inverse transform predictions\n",
    "y_pred = scaler.inverse_transform(np.concatenate((X_test.reshape(X_test.shape[0], X_test.shape[2]), y_pred.reshape(y_pred.shape[0], 1)), axis=1))[:, -1]\n",
    "y_test = scaler.inverse_transform(np.concatenate((X_test.reshape(X_test.shape[0], X_test.shape[2]), y_test.reshape(y_test.shape[0], 1)), axis=1))[:, -1]"
   ]
  },
  {
   "cell_type": "code",
   "execution_count": 169,
   "id": "f524cc95",
   "metadata": {},
   "outputs": [
    {
     "name": "stdout",
     "output_type": "stream",
     "text": [
      "Test RMSE: 421.33992552175766\n"
     ]
    }
   ],
   "source": [
    "# Calculated RMSE\n",
    "rmse = np.sqrt(mean_squared_error(y_test, y_pred))\n",
    "print(f'Test RMSE: {rmse}')"
   ]
  },
  {
   "cell_type": "code",
   "execution_count": 170,
   "id": "9d34d2b5",
   "metadata": {},
   "outputs": [],
   "source": [
    "from flask import Flask, render_template, request, send_from_directory\n",
    "import pandas as pd\n",
    "from tensorflow.keras.models import load_model\n",
    "from sklearn.preprocessing import MinMaxScaler\n",
    "import numpy as np\n",
    "import os"
   ]
  },
  {
   "cell_type": "code",
   "execution_count": 171,
   "id": "394691c8",
   "metadata": {},
   "outputs": [],
   "source": [
    "app = Flask(__name__)"
   ]
  },
  {
   "cell_type": "code",
   "execution_count": 194,
   "id": "f9c61b8a",
   "metadata": {},
   "outputs": [
    {
     "name": "stdout",
     "output_type": "stream",
     "text": [
      "Model Saved!\n"
     ]
    },
    {
     "name": "stderr",
     "output_type": "stream",
     "text": [
      "C:\\Users\\Rakesh\\anaconda3\\lib\\site-packages\\keras\\src\\engine\\training.py:3103: UserWarning: You are saving your model as an HDF5 file via `model.save()`. This file format is considered legacy. We recommend using instead the native Keras format, e.g. `model.save('my_model.keras')`.\n",
      "  saving_api.save_model(\n"
     ]
    }
   ],
   "source": [
    "# save model\n",
    "model.save('Model.h5')\n",
    "print('Model Saved!')"
   ]
  },
  {
   "cell_type": "code",
   "execution_count": 195,
   "id": "cbeea61f",
   "metadata": {},
   "outputs": [
    {
     "name": "stdout",
     "output_type": "stream",
     "text": [
      "Model: \"sequential\"\n",
      "_________________________________________________________________\n",
      " Layer (type)                Output Shape              Param #   \n",
      "=================================================================\n",
      " lstm (LSTM)                 (None, 50)                10800     \n",
      "                                                                 \n",
      " dense (Dense)               (None, 1)                 51        \n",
      "                                                                 \n",
      "=================================================================\n",
      "Total params: 10851 (42.39 KB)\n",
      "Trainable params: 10851 (42.39 KB)\n",
      "Non-trainable params: 0 (0.00 Byte)\n",
      "_________________________________________________________________\n"
     ]
    }
   ],
   "source": [
    "# load model\n",
    "savedModel=load_model('Model.h5')\n",
    "savedModel.summary()"
   ]
  },
  {
   "cell_type": "code",
   "execution_count": 196,
   "id": "cd4b280d",
   "metadata": {},
   "outputs": [],
   "source": [
    "scaler = MinMaxScaler(feature_range=(-1, 1))"
   ]
  },
  {
   "cell_type": "code",
   "execution_count": null,
   "id": "194dc6a5",
   "metadata": {},
   "outputs": [],
   "source": []
  },
  {
   "cell_type": "code",
   "execution_count": null,
   "id": "627e6a65",
   "metadata": {},
   "outputs": [],
   "source": []
  }
 ],
 "metadata": {
  "kernelspec": {
   "display_name": "Python 3 (ipykernel)",
   "language": "python",
   "name": "python3"
  },
  "language_info": {
   "codemirror_mode": {
    "name": "ipython",
    "version": 3
   },
   "file_extension": ".py",
   "mimetype": "text/x-python",
   "name": "python",
   "nbconvert_exporter": "python",
   "pygments_lexer": "ipython3",
   "version": "3.10.9"
  }
 },
 "nbformat": 4,
 "nbformat_minor": 5
}
